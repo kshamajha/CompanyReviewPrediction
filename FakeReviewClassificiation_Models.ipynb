{
 "cells": [
  {
   "cell_type": "code",
   "execution_count": 1,
   "id": "f92eb441",
   "metadata": {},
   "outputs": [
    {
     "name": "stderr",
     "output_type": "stream",
     "text": [
      "[nltk_data] Downloading package stopwords to\n",
      "[nltk_data]     /Users/kshamajha/nltk_data...\n",
      "[nltk_data]   Package stopwords is already up-to-date!\n"
     ]
    }
   ],
   "source": [
    "# Importing all required packages and ignore warnings \n",
    "import pandas as pd\n",
    "import numpy as np\n",
    "import matplotlib.pyplot as plt\n",
    "import seaborn as sns\n",
    "from sklearn.model_selection import RandomizedSearchCV\n",
    "from sklearn import metrics\n",
    "from sklearn.metrics import confusion_matrix, roc_auc_score, roc_curve, classification_report, precision_recall_curve\n",
    "from sklearn.metrics import accuracy_score, f1_score, precision_score, recall_score, brier_score_loss\n",
    "import statsmodels.api as sm\n",
    "from sklearn.svm import SVC\n",
    "from sklearn.linear_model import LogisticRegression\n",
    "from sklearn.feature_selection import RFE\n",
    "from sklearn.tree import DecisionTreeClassifier\n",
    "from sklearn.ensemble import RandomForestClassifier\n",
    "import xgboost as xgb\n",
    "from xgboost.sklearn import XGBClassifier\n",
    "from xgboost import plot_importance\n",
    "from imblearn.over_sampling import SMOTE\n",
    "from sklearn.decomposition import PCA\n",
    "from sklearn.preprocessing import StandardScaler\n",
    "from sklearn.decomposition import IncrementalPCA\n",
    "from sklearn.model_selection import train_test_split\n",
    "from collections import Counter\n",
    "from collections import OrderedDict\n",
    "from itertools import islice\n",
    "import nltk\n",
    "nltk.download('stopwords')\n",
    "from nltk.corpus import stopwords\n",
    "from IPython.display import Markdown, display\n",
    "import warnings\n",
    "import time\n",
    "warnings.filterwarnings('ignore')\n",
    "pd.set_option(\"display.max_columns\", 500)\n",
    "pd.set_option(\"display.max_rows\", 500)\n",
    "pd.options.display.max_colwidth = 100"
   ]
  },
  {
   "cell_type": "markdown",
   "id": "ce431722",
   "metadata": {},
   "source": [
    "## Loading the all cleaned data"
   ]
  },
  {
   "cell_type": "code",
   "execution_count": 2,
   "id": "1af1529e",
   "metadata": {},
   "outputs": [
    {
     "data": {
      "text/plain": [
       "(437511, 23)"
      ]
     },
     "execution_count": 2,
     "metadata": {},
     "output_type": "execute_result"
    }
   ],
   "source": [
    "review_df_final = pd.read_csv(\"reviews_dataset_new.csv\")\n",
    "review_df_final.shape"
   ]
  },
  {
   "cell_type": "code",
   "execution_count": 3,
   "id": "3254eb2c",
   "metadata": {},
   "outputs": [],
   "source": [
    "model_results = pd.DataFrame()\n",
    "def get_model_metrics(y_test, y_pred, model_name):\n",
    "    display(Markdown(\"------ \"))\n",
    "    display(Markdown(\"### \" + model_name + \" Model Metrics Summary : \"))\n",
    "    cm = confusion_matrix(y_test,y_pred)\n",
    "    display(Markdown(\"#### Confusion Matrix : \"))\n",
    "\n",
    "    display(cm)\n",
    "    accuracy = round(accuracy_score(y_test,y_pred), 2)\n",
    "    precision = round(precision_score(y_test,y_pred), 2)\n",
    "    recall = round(recall_score(y_test,y_pred), 2)\n",
    "    auc = round(roc_auc_score(y_test,y_pred), 2)\n",
    "    f1 = round(f1_score(y_test,y_pred), 2)\n",
    "    brier_loss = round(brier_score_loss(y_test, y_pred), 4)\n",
    "    \n",
    "    data = [[model_name, accuracy, precision, recall, auc, f1, brier_loss]] \n",
    "    df = pd.DataFrame(data, columns = ['Model Name', 'Accuracy', 'Precision', 'Recall', 'AUC', 'F1', 'Brier Loss'])\n",
    "    global model_results \n",
    "    model_results = model_results.append(df, ignore_index=True)\n",
    "    return df "
   ]
  },
  {
   "cell_type": "code",
   "execution_count": 4,
   "id": "4217f551",
   "metadata": {},
   "outputs": [],
   "source": [
    "from sklearn.feature_extraction.text import TfidfVectorizer\n",
    "\n",
    "tfidf_vectorizer = TfidfVectorizer(use_idf=True, ngram_range=(1,1), min_df = 0.1) \n",
    " \n",
    "# vectorize the complete text\n",
    "tfidf_vectorizer_vectors = tfidf_vectorizer.fit_transform(review_df_final['ReviewText'])\n"
   ]
  },
  {
   "cell_type": "code",
   "execution_count": 5,
   "id": "a48811db",
   "metadata": {},
   "outputs": [
    {
     "data": {
      "text/plain": [
       "<437511x12 sparse matrix of type '<class 'numpy.float64'>'\n",
       "\twith 939107 stored elements in Compressed Sparse Row format>"
      ]
     },
     "execution_count": 5,
     "metadata": {},
     "output_type": "execute_result"
    }
   ],
   "source": [
    "(tfidf_vectorizer_vectors)"
   ]
  },
  {
   "cell_type": "code",
   "execution_count": 6,
   "id": "d8dca481",
   "metadata": {},
   "outputs": [
    {
     "data": {
      "text/html": [
       "<div>\n",
       "<style scoped>\n",
       "    .dataframe tbody tr th:only-of-type {\n",
       "        vertical-align: middle;\n",
       "    }\n",
       "\n",
       "    .dataframe tbody tr th {\n",
       "        vertical-align: top;\n",
       "    }\n",
       "\n",
       "    .dataframe thead th {\n",
       "        text-align: right;\n",
       "    }\n",
       "</style>\n",
       "<table border=\"1\" class=\"dataframe\">\n",
       "  <thead>\n",
       "    <tr style=\"text-align: right;\">\n",
       "      <th></th>\n",
       "      <th>OverallCompanyRating</th>\n",
       "      <th>Verified</th>\n",
       "      <th>TotalEmployees</th>\n",
       "      <th>year</th>\n",
       "      <th>quarter</th>\n",
       "      <th>month</th>\n",
       "      <th>CareerGrowth</th>\n",
       "      <th>SalaryandBenefits</th>\n",
       "      <th>WorkLifeBalance</th>\n",
       "      <th>WorkSatisfaction</th>\n",
       "      <th>CompanyCulture</th>\n",
       "      <th>SkillDevelopment</th>\n",
       "      <th>JobSecurity</th>\n",
       "      <th>Fortune500</th>\n",
       "      <th>Global2000</th>\n",
       "      <th>MNC</th>\n",
       "      <th>conglomerate</th>\n",
       "      <th>Govt</th>\n",
       "      <th>ReviewText</th>\n",
       "      <th>ReviewText_CharCount</th>\n",
       "      <th>ReviewText_WordCount</th>\n",
       "      <th>firm_noofreviews</th>\n",
       "      <th>fake</th>\n",
       "    </tr>\n",
       "  </thead>\n",
       "  <tbody>\n",
       "    <tr>\n",
       "      <th>0</th>\n",
       "      <td>1</td>\n",
       "      <td>0</td>\n",
       "      <td>100001</td>\n",
       "      <td>2021</td>\n",
       "      <td>3</td>\n",
       "      <td>9</td>\n",
       "      <td>1</td>\n",
       "      <td>2</td>\n",
       "      <td>1</td>\n",
       "      <td>1</td>\n",
       "      <td>1</td>\n",
       "      <td>1</td>\n",
       "      <td>1</td>\n",
       "      <td>0</td>\n",
       "      <td>0</td>\n",
       "      <td>1</td>\n",
       "      <td>0</td>\n",
       "      <td>0</td>\n",
       "      <td>work life balance treat employee slaves set un realistic goal achieve either work hrs make alot ...</td>\n",
       "      <td>497</td>\n",
       "      <td>76</td>\n",
       "      <td>599</td>\n",
       "      <td>1</td>\n",
       "    </tr>\n",
       "    <tr>\n",
       "      <th>1</th>\n",
       "      <td>5</td>\n",
       "      <td>1</td>\n",
       "      <td>100001</td>\n",
       "      <td>2021</td>\n",
       "      <td>1</td>\n",
       "      <td>2</td>\n",
       "      <td>5</td>\n",
       "      <td>5</td>\n",
       "      <td>5</td>\n",
       "      <td>5</td>\n",
       "      <td>5</td>\n",
       "      <td>5</td>\n",
       "      <td>5</td>\n",
       "      <td>0</td>\n",
       "      <td>0</td>\n",
       "      <td>1</td>\n",
       "      <td>0</td>\n",
       "      <td>0</td>\n",
       "      <td>good work environment culture teammates supportive management transparent huge cafeteria gaming ...</td>\n",
       "      <td>316</td>\n",
       "      <td>44</td>\n",
       "      <td>599</td>\n",
       "      <td>0</td>\n",
       "    </tr>\n",
       "  </tbody>\n",
       "</table>\n",
       "</div>"
      ],
      "text/plain": [
       "   OverallCompanyRating  Verified  TotalEmployees  year  quarter  month  \\\n",
       "0                     1         0          100001  2021        3      9   \n",
       "1                     5         1          100001  2021        1      2   \n",
       "\n",
       "   CareerGrowth  SalaryandBenefits  WorkLifeBalance  WorkSatisfaction  \\\n",
       "0             1                  2                1                 1   \n",
       "1             5                  5                5                 5   \n",
       "\n",
       "   CompanyCulture  SkillDevelopment  JobSecurity  Fortune500  Global2000  MNC  \\\n",
       "0               1                 1            1           0           0    1   \n",
       "1               5                 5            5           0           0    1   \n",
       "\n",
       "   conglomerate  Govt  \\\n",
       "0             0     0   \n",
       "1             0     0   \n",
       "\n",
       "                                                                                            ReviewText  \\\n",
       "0  work life balance treat employee slaves set un realistic goal achieve either work hrs make alot ...   \n",
       "1  good work environment culture teammates supportive management transparent huge cafeteria gaming ...   \n",
       "\n",
       "   ReviewText_CharCount  ReviewText_WordCount  firm_noofreviews  fake  \n",
       "0                   497                    76               599     1  \n",
       "1                   316                    44               599     0  "
      ]
     },
     "execution_count": 6,
     "metadata": {},
     "output_type": "execute_result"
    }
   ],
   "source": [
    "review_df_final.head(2)"
   ]
  },
  {
   "cell_type": "code",
   "execution_count": 7,
   "id": "3242bdfb",
   "metadata": {},
   "outputs": [
    {
     "data": {
      "image/png": "[encoded data removed]",
      "text/plain": [
       "<Figure size 720x576 with 1 Axes>"
      ]
     },
     "metadata": {
      "needs_background": "light"
     },
     "output_type": "display_data"
    }
   ],
   "source": [
    "# Plot to show the fake review counts\n",
    "plt.figure(figsize=(10,8))\n",
    "ax = sns.countplot(x='fake', data=review_df_final)\n",
    "for p in ax.patches:\n",
    "    ax.annotate('{:.1f}'.format(p.get_height()), (p.get_x()+0.25, p.get_height()+0.01))\n",
    "plt.show()"
   ]
  },
  {
   "cell_type": "code",
   "execution_count": 8,
   "id": "47a6a395",
   "metadata": {},
   "outputs": [],
   "source": [
    "#dividing data into test & train to build fake review detection model\n",
    "# Putting feature variable to X\n",
    "X = tfidf_vectorizer_vectors\n",
    "\n",
    "# Putting response variable to y\n",
    "y = review_df_final[\"fake\"]\n",
    "# split into 70:30 ratio\n",
    "X_train, X_test, y_train, y_test = train_test_split(X, y, test_size = 0.30, random_state =100)"
   ]
  },
  {
   "cell_type": "code",
   "execution_count": 9,
   "id": "81f85e72",
   "metadata": {},
   "outputs": [
    {
     "name": "stdout",
     "output_type": "stream",
     "text": [
      "Number transactions X_train dataset:  (306257, 12)\n",
      "Number transactions y_train dataset:  (306257,)\n",
      "Number transactions X_test dataset:  (131254, 12)\n",
      "Number transactions y_test dataset:  (131254,)\n"
     ]
    }
   ],
   "source": [
    "# describes info about train and test set\n",
    "print(\"Number transactions X_train dataset: \", X_train.shape)\n",
    "print(\"Number transactions y_train dataset: \", y_train.shape)\n",
    "print(\"Number transactions X_test dataset: \", X_test.shape)\n",
    "print(\"Number transactions y_test dataset: \", y_test.shape)"
   ]
  },
  {
   "cell_type": "code",
   "execution_count": 10,
   "id": "b42dd71b",
   "metadata": {},
   "outputs": [
    {
     "name": "stdout",
     "output_type": "stream",
     "text": [
      "Fake Ratio:\n"
     ]
    },
    {
     "data": {
      "text/plain": [
       "0    84.024855\n",
       "1    15.975145\n",
       "Name: fake, dtype: float64"
      ]
     },
     "execution_count": 10,
     "metadata": {},
     "output_type": "execute_result"
    }
   ],
   "source": [
    "# Print fake ratio in train data\n",
    "print(\"Fake Ratio:\")\n",
    "y_train.value_counts()*100/y_train.size"
   ]
  },
  {
   "cell_type": "markdown",
   "id": "01855729",
   "metadata": {},
   "source": [
    "### Training the model\n",
    "## Logistic Regression with unbalanced data"
   ]
  },
  {
   "cell_type": "code",
   "execution_count": 11,
   "id": "c78aae83",
   "metadata": {},
   "outputs": [
    {
     "name": "stdout",
     "output_type": "stream",
     "text": [
      "CPU Execution time: 0.8339359999999996 seconds\n"
     ]
    }
   ],
   "source": [
    "st = time.process_time()\n",
    "lr = LogisticRegression()\n",
    "lr.fit(X_train,y_train)\n",
    "et = time.process_time()\n",
    "res = et - st\n",
    "print('CPU Execution time:', res, 'seconds')"
   ]
  },
  {
   "cell_type": "code",
   "execution_count": 12,
   "id": "df0d8f53",
   "metadata": {},
   "outputs": [
    {
     "name": "stdout",
     "output_type": "stream",
     "text": [
      "[[107510   2948]\n",
      " [ 17352   3444]]\n",
      "0.8453380468404772\n",
      "              precision    recall  f1-score   support\n",
      "\n",
      "           0       0.86      0.97      0.91    110458\n",
      "           1       0.54      0.17      0.25     20796\n",
      "\n",
      "    accuracy                           0.85    131254\n",
      "   macro avg       0.70      0.57      0.58    131254\n",
      "weighted avg       0.81      0.85      0.81    131254\n",
      "\n"
     ]
    }
   ],
   "source": [
    "y_pred = lr.predict(X_test)\n",
    "print(confusion_matrix(y_test,y_pred))\n",
    "print(accuracy_score(y_test,y_pred))\n",
    "print(classification_report(y_test,y_pred))"
   ]
  },
  {
   "cell_type": "code",
   "execution_count": 13,
   "id": "1cfac1be",
   "metadata": {},
   "outputs": [
    {
     "data": {
      "text/markdown": [
       "------ "
      ],
      "text/plain": [
       "<IPython.core.display.Markdown object>"
      ]
     },
     "metadata": {},
     "output_type": "display_data"
    },
    {
     "data": {
      "text/markdown": [
       "### Logistic Regression with unbalanced data Model Metrics Summary : "
      ],
      "text/plain": [
       "<IPython.core.display.Markdown object>"
      ]
     },
     "metadata": {},
     "output_type": "display_data"
    },
    {
     "data": {
      "text/markdown": [
       "#### Confusion Matrix : "
      ],
      "text/plain": [
       "<IPython.core.display.Markdown object>"
      ]
     },
     "metadata": {},
     "output_type": "display_data"
    },
    {
     "data": {
      "text/plain": [
       "array([[107510,   2948],\n",
       "       [ 17352,   3444]])"
      ]
     },
     "metadata": {},
     "output_type": "display_data"
    },
    {
     "data": {
      "text/html": [
       "<div>\n",
       "<style scoped>\n",
       "    .dataframe tbody tr th:only-of-type {\n",
       "        vertical-align: middle;\n",
       "    }\n",
       "\n",
       "    .dataframe tbody tr th {\n",
       "        vertical-align: top;\n",
       "    }\n",
       "\n",
       "    .dataframe thead th {\n",
       "        text-align: right;\n",
       "    }\n",
       "</style>\n",
       "<table border=\"1\" class=\"dataframe\">\n",
       "  <thead>\n",
       "    <tr style=\"text-align: right;\">\n",
       "      <th></th>\n",
       "      <th>Model Name</th>\n",
       "      <th>Accuracy</th>\n",
       "      <th>Precision</th>\n",
       "      <th>Recall</th>\n",
       "      <th>AUC</th>\n",
       "      <th>F1</th>\n",
       "      <th>Brier Loss</th>\n",
       "    </tr>\n",
       "  </thead>\n",
       "  <tbody>\n",
       "    <tr>\n",
       "      <th>0</th>\n",
       "      <td>Logistic Regression with unbalanced data</td>\n",
       "      <td>0.85</td>\n",
       "      <td>0.54</td>\n",
       "      <td>0.17</td>\n",
       "      <td>0.57</td>\n",
       "      <td>0.25</td>\n",
       "      <td>0.1547</td>\n",
       "    </tr>\n",
       "  </tbody>\n",
       "</table>\n",
       "</div>"
      ],
      "text/plain": [
       "                                 Model Name  Accuracy  Precision  Recall  \\\n",
       "0  Logistic Regression with unbalanced data      0.85       0.54    0.17   \n",
       "\n",
       "    AUC    F1  Brier Loss  \n",
       "0  0.57  0.25      0.1547  "
      ]
     },
     "execution_count": 13,
     "metadata": {},
     "output_type": "execute_result"
    }
   ],
   "source": [
    "# Print the model metrics\n",
    "get_model_metrics(y_test, y_pred ,'Logistic Regression with unbalanced data')"
   ]
  },
  {
   "cell_type": "markdown",
   "id": "02e219a6",
   "metadata": {},
   "source": [
    "### The data is highly unbalanced. Lets do the model building by balancing data."
   ]
  },
  {
   "cell_type": "code",
   "execution_count": 14,
   "id": "788a5540",
   "metadata": {},
   "outputs": [
    {
     "name": "stdout",
     "output_type": "stream",
     "text": [
      "CPU Execution time: 2745.9559400000003 seconds\n"
     ]
    }
   ],
   "source": [
    "from imblearn.combine import SMOTETomek\n",
    "st = time.process_time()\n",
    "os=SMOTETomek(0.75)\n",
    "X_train_ns,y_train_ns=os.fit_resample(X_train,y_train)\n",
    "et = time.process_time()\n",
    "res = et - st\n",
    "print('CPU Execution time:', res, 'seconds')"
   ]
  },
  {
   "cell_type": "code",
   "execution_count": 15,
   "id": "60ceb5f0",
   "metadata": {},
   "outputs": [
    {
     "name": "stdout",
     "output_type": "stream",
     "text": [
      "Before OverSampling, counts of label '1': 48925\n",
      "Before OverSampling, counts of label '0': 257332 \n",
      "\n",
      "After OverSampling, the shape of train_X: (450181, 12)\n",
      "After OverSampling, the shape of train_y: (450181,) \n",
      "\n",
      "After OverSampling, counts of label '1': 192924\n",
      "After OverSampling, counts of label '0': 257257\n"
     ]
    }
   ],
   "source": [
    "print(\"Before OverSampling, counts of label '1': {}\".format(sum(y_train == 1)))\n",
    "print(\"Before OverSampling, counts of label '0': {} \\n\".format(sum(y_train == 0)))\n",
    "\n",
    "print('After OverSampling, the shape of train_X: {}'.format(X_train_ns.shape))\n",
    "print('After OverSampling, the shape of train_y: {} \\n'.format(y_train_ns.shape))\n",
    " \n",
    "print(\"After OverSampling, counts of label '1': {}\".format(sum(y_train_ns == 1)))\n",
    "print(\"After OverSampling, counts of label '0': {}\".format(sum(y_train_ns == 0)))"
   ]
  },
  {
   "cell_type": "markdown",
   "id": "4563f118",
   "metadata": {},
   "source": [
    "### Training the model with balanced data\n",
    "## Logistic Regression"
   ]
  },
  {
   "cell_type": "code",
   "execution_count": 16,
   "id": "80db9ea5",
   "metadata": {},
   "outputs": [
    {
     "name": "stdout",
     "output_type": "stream",
     "text": [
      "CPU Execution time: 0.9148499999996602 seconds\n"
     ]
    }
   ],
   "source": [
    "st = time.process_time()\n",
    "lr2 = LogisticRegression()\n",
    "lr2.fit(X_train_ns,y_train_ns)\n",
    "et = time.process_time()\n",
    "res = et - st\n",
    "print('CPU Execution time:', res, 'seconds')"
   ]
  },
  {
   "cell_type": "code",
   "execution_count": 17,
   "id": "aad19cfc",
   "metadata": {},
   "outputs": [
    {
     "name": "stdout",
     "output_type": "stream",
     "text": [
      "[[88194 22264]\n",
      " [ 4865 15931]]\n",
      "0.7933091562923796\n",
      "              precision    recall  f1-score   support\n",
      "\n",
      "           0       0.95      0.80      0.87    110458\n",
      "           1       0.42      0.77      0.54     20796\n",
      "\n",
      "    accuracy                           0.79    131254\n",
      "   macro avg       0.68      0.78      0.70    131254\n",
      "weighted avg       0.86      0.79      0.81    131254\n",
      "\n"
     ]
    }
   ],
   "source": [
    "y_pred2 = lr2.predict(X_test)\n",
    "print(confusion_matrix(y_test,y_pred2))\n",
    "print(accuracy_score(y_test,y_pred2))\n",
    "print(classification_report(y_test,y_pred2))"
   ]
  },
  {
   "cell_type": "code",
   "execution_count": 18,
   "id": "8944a0c4",
   "metadata": {},
   "outputs": [
    {
     "data": {
      "text/markdown": [
       "------ "
      ],
      "text/plain": [
       "<IPython.core.display.Markdown object>"
      ]
     },
     "metadata": {},
     "output_type": "display_data"
    },
    {
     "data": {
      "text/markdown": [
       "### Logistic Regression Model Metrics Summary : "
      ],
      "text/plain": [
       "<IPython.core.display.Markdown object>"
      ]
     },
     "metadata": {},
     "output_type": "display_data"
    },
    {
     "data": {
      "text/markdown": [
       "#### Confusion Matrix : "
      ],
      "text/plain": [
       "<IPython.core.display.Markdown object>"
      ]
     },
     "metadata": {},
     "output_type": "display_data"
    },
    {
     "data": {
      "text/plain": [
       "array([[88194, 22264],\n",
       "       [ 4865, 15931]])"
      ]
     },
     "metadata": {},
     "output_type": "display_data"
    },
    {
     "data": {
      "text/html": [
       "<div>\n",
       "<style scoped>\n",
       "    .dataframe tbody tr th:only-of-type {\n",
       "        vertical-align: middle;\n",
       "    }\n",
       "\n",
       "    .dataframe tbody tr th {\n",
       "        vertical-align: top;\n",
       "    }\n",
       "\n",
       "    .dataframe thead th {\n",
       "        text-align: right;\n",
       "    }\n",
       "</style>\n",
       "<table border=\"1\" class=\"dataframe\">\n",
       "  <thead>\n",
       "    <tr style=\"text-align: right;\">\n",
       "      <th></th>\n",
       "      <th>Model Name</th>\n",
       "      <th>Accuracy</th>\n",
       "      <th>Precision</th>\n",
       "      <th>Recall</th>\n",
       "      <th>AUC</th>\n",
       "      <th>F1</th>\n",
       "      <th>Brier Loss</th>\n",
       "    </tr>\n",
       "  </thead>\n",
       "  <tbody>\n",
       "    <tr>\n",
       "      <th>0</th>\n",
       "      <td>Logistic Regression</td>\n",
       "      <td>0.79</td>\n",
       "      <td>0.42</td>\n",
       "      <td>0.77</td>\n",
       "      <td>0.78</td>\n",
       "      <td>0.54</td>\n",
       "      <td>0.2067</td>\n",
       "    </tr>\n",
       "  </tbody>\n",
       "</table>\n",
       "</div>"
      ],
      "text/plain": [
       "            Model Name  Accuracy  Precision  Recall   AUC    F1  Brier Loss\n",
       "0  Logistic Regression      0.79       0.42    0.77  0.78  0.54      0.2067"
      ]
     },
     "execution_count": 18,
     "metadata": {},
     "output_type": "execute_result"
    }
   ],
   "source": [
    "# Print the model metrics\n",
    "get_model_metrics(y_test, y_pred2 ,'Logistic Regression')"
   ]
  },
  {
   "cell_type": "code",
   "execution_count": 19,
   "id": "946747bc",
   "metadata": {},
   "outputs": [
    {
     "name": "stderr",
     "output_type": "stream",
     "text": [
      "No artists with labels found to put in legend.  Note that artists whose label start with an underscore are ignored when legend() is called with no argument.\n"
     ]
    },
    {
     "data": {
      "image/png": "[encoded data removed]",
      "text/plain": [
       "<Figure size 432x288 with 1 Axes>"
      ]
     },
     "metadata": {
      "needs_background": "light"
     },
     "output_type": "display_data"
    }
   ],
   "source": [
    "from sklearn.metrics import roc_auc_score, roc_curve\n",
    "plt.plot(roc_curve(y_test, y_pred2), roc_curve(y_test, y_pred2))\n",
    "plt.title('ROC Curve for Fake Review detection')\n",
    "plt.grid()\n",
    "plt.xlabel('False Positive Rate (1 - Specificity)')\n",
    "plt.ylabel('True Positive Rate (Sensitivity)')\n",
    "plt.legend(bbox_to_anchor=(1.0, .5))\n",
    "plt.show()"
   ]
  },
  {
   "cell_type": "markdown",
   "id": "053233b1",
   "metadata": {},
   "source": [
    "### Training the model\n",
    "## Random Forest"
   ]
  },
  {
   "cell_type": "code",
   "execution_count": 20,
   "id": "3b2fcea7",
   "metadata": {},
   "outputs": [
    {
     "name": "stdout",
     "output_type": "stream",
     "text": [
      "CPU Execution time: 111.25884300000007 seconds\n"
     ]
    }
   ],
   "source": [
    "st = time.process_time()\n",
    "rf=RandomForestClassifier()\n",
    "rf.fit(X_train_ns,y_train_ns)\n",
    "et = time.process_time()\n",
    "res = et - st\n",
    "print('CPU Execution time:', res, 'seconds')"
   ]
  },
  {
   "cell_type": "code",
   "execution_count": 21,
   "id": "4a42b6b2",
   "metadata": {},
   "outputs": [
    {
     "name": "stdout",
     "output_type": "stream",
     "text": [
      "[[87061 23397]\n",
      " [ 4534 16262]]\n",
      "0.7871988663202645\n",
      "              precision    recall  f1-score   support\n",
      "\n",
      "           0       0.95      0.79      0.86    110458\n",
      "           1       0.41      0.78      0.54     20796\n",
      "\n",
      "    accuracy                           0.79    131254\n",
      "   macro avg       0.68      0.79      0.70    131254\n",
      "weighted avg       0.86      0.79      0.81    131254\n",
      "\n"
     ]
    }
   ],
   "source": [
    "y_pred3=rf.predict(X_test)\n",
    "print(confusion_matrix(y_test,y_pred3))\n",
    "print(accuracy_score(y_test,y_pred3))\n",
    "print(classification_report(y_test,y_pred3))"
   ]
  },
  {
   "cell_type": "code",
   "execution_count": 22,
   "id": "180db251",
   "metadata": {},
   "outputs": [
    {
     "data": {
      "text/markdown": [
       "------ "
      ],
      "text/plain": [
       "<IPython.core.display.Markdown object>"
      ]
     },
     "metadata": {},
     "output_type": "display_data"
    },
    {
     "data": {
      "text/markdown": [
       "### Random Forest Model Metrics Summary : "
      ],
      "text/plain": [
       "<IPython.core.display.Markdown object>"
      ]
     },
     "metadata": {},
     "output_type": "display_data"
    },
    {
     "data": {
      "text/markdown": [
       "#### Confusion Matrix : "
      ],
      "text/plain": [
       "<IPython.core.display.Markdown object>"
      ]
     },
     "metadata": {},
     "output_type": "display_data"
    },
    {
     "data": {
      "text/plain": [
       "array([[87061, 23397],\n",
       "       [ 4534, 16262]])"
      ]
     },
     "metadata": {},
     "output_type": "display_data"
    },
    {
     "data": {
      "text/html": [
       "<div>\n",
       "<style scoped>\n",
       "    .dataframe tbody tr th:only-of-type {\n",
       "        vertical-align: middle;\n",
       "    }\n",
       "\n",
       "    .dataframe tbody tr th {\n",
       "        vertical-align: top;\n",
       "    }\n",
       "\n",
       "    .dataframe thead th {\n",
       "        text-align: right;\n",
       "    }\n",
       "</style>\n",
       "<table border=\"1\" class=\"dataframe\">\n",
       "  <thead>\n",
       "    <tr style=\"text-align: right;\">\n",
       "      <th></th>\n",
       "      <th>Model Name</th>\n",
       "      <th>Accuracy</th>\n",
       "      <th>Precision</th>\n",
       "      <th>Recall</th>\n",
       "      <th>AUC</th>\n",
       "      <th>F1</th>\n",
       "      <th>Brier Loss</th>\n",
       "    </tr>\n",
       "  </thead>\n",
       "  <tbody>\n",
       "    <tr>\n",
       "      <th>0</th>\n",
       "      <td>Random Forest</td>\n",
       "      <td>0.79</td>\n",
       "      <td>0.41</td>\n",
       "      <td>0.78</td>\n",
       "      <td>0.79</td>\n",
       "      <td>0.54</td>\n",
       "      <td>0.2128</td>\n",
       "    </tr>\n",
       "  </tbody>\n",
       "</table>\n",
       "</div>"
      ],
      "text/plain": [
       "      Model Name  Accuracy  Precision  Recall   AUC    F1  Brier Loss\n",
       "0  Random Forest      0.79       0.41    0.78  0.79  0.54      0.2128"
      ]
     },
     "execution_count": 22,
     "metadata": {},
     "output_type": "execute_result"
    }
   ],
   "source": [
    "# Print the model metrics\n",
    "get_model_metrics(y_test, y_pred3 ,'Random Forest')"
   ]
  },
  {
   "cell_type": "code",
   "execution_count": 23,
   "id": "3c3bc52a",
   "metadata": {},
   "outputs": [
    {
     "name": "stderr",
     "output_type": "stream",
     "text": [
      "No artists with labels found to put in legend.  Note that artists whose label start with an underscore are ignored when legend() is called with no argument.\n"
     ]
    },
    {
     "data": {
      "image/png": "[encoded data removed]",
      "text/plain": [
       "<Figure size 432x288 with 1 Axes>"
      ]
     },
     "metadata": {
      "needs_background": "light"
     },
     "output_type": "display_data"
    }
   ],
   "source": [
    "from sklearn.metrics import roc_auc_score, roc_curve\n",
    "plt.plot(roc_curve(y_test, y_pred3), roc_curve(y_test, y_pred3))\n",
    "plt.title('ROC Curve for Fake Review detection')\n",
    "plt.grid()\n",
    "plt.xlabel('False Positive Rate (1 - Specificity)')\n",
    "plt.ylabel('True Positive Rate (Sensitivity)')\n",
    "plt.legend(bbox_to_anchor=(1.0, .5))\n",
    "plt.show()"
   ]
  },
  {
   "cell_type": "markdown",
   "id": "d38ff0e9",
   "metadata": {},
   "source": [
    "### Training the model\n",
    "## Random Forest with HPT"
   ]
  },
  {
   "cell_type": "code",
   "execution_count": 24,
   "id": "8cbc05ee",
   "metadata": {},
   "outputs": [
    {
     "name": "stdout",
     "output_type": "stream",
     "text": [
      "{'n_estimators': [200, 400, 600, 800, 1000, 1200, 1400, 1600, 1800, 2000], 'max_features': ['auto', 'sqrt', 'log2'], 'max_depth': [10, 120, 230, 340, 450, 560, 670, 780, 890, 1000], 'min_samples_split': [2, 5, 10, 14], 'min_samples_leaf': [1, 2, 4, 6, 8], 'criterion': ['entropy', 'gini']}\n"
     ]
    }
   ],
   "source": [
    "from sklearn.model_selection import RandomizedSearchCV\n",
    "n_estimators = [int(x) for x in np.linspace(start = 200, stop = 2000, num = 10)]\n",
    "max_features = ['auto', 'sqrt','log2']\n",
    "max_depth = [int(x) for x in np.linspace(10, 1000,10)]\n",
    "min_samples_split = [2, 5, 10, 14]\n",
    "min_samples_leaf = [1, 2, 4, 6, 8]\n",
    "random_grid = {'n_estimators': n_estimators,\n",
    "               'max_features': max_features,\n",
    "               'max_depth': max_depth,\n",
    "               'min_samples_split': min_samples_split,\n",
    "               'min_samples_leaf': min_samples_leaf,\n",
    "              'criterion':['entropy','gini']}\n",
    "print(random_grid)"
   ]
  },
  {
   "cell_type": "code",
   "execution_count": 25,
   "id": "dd7043a4",
   "metadata": {},
   "outputs": [
    {
     "name": "stdout",
     "output_type": "stream",
     "text": [
      "Fitting 3 folds for each of 10 candidates, totalling 30 fits\n",
      "[CV] END criterion=gini, max_depth=120, max_features=sqrt, min_samples_leaf=6, min_samples_split=5, n_estimators=1400; total time=18.9min\n",
      "[CV] END criterion=gini, max_depth=670, max_features=log2, min_samples_leaf=4, min_samples_split=2, n_estimators=600; total time= 8.4min\n",
      "[CV] END criterion=entropy, max_depth=670, max_features=log2, min_samples_leaf=6, min_samples_split=10, n_estimators=2000; total time=25.7min\n",
      "[CV] END criterion=gini, max_depth=340, max_features=sqrt, min_samples_leaf=1, min_samples_split=14, n_estimators=2000; total time=37.6min\n",
      "[CV] END criterion=gini, max_depth=340, max_features=auto, min_samples_leaf=4, min_samples_split=10, n_estimators=1400; total time=18.8min\n",
      "[CV] END criterion=gini, max_depth=120, max_features=sqrt, min_samples_leaf=6, min_samples_split=5, n_estimators=1400; total time=18.9min\n",
      "[CV] END criterion=gini, max_depth=670, max_features=log2, min_samples_leaf=4, min_samples_split=2, n_estimators=600; total time= 8.5min\n",
      "[CV] END criterion=gini, max_depth=340, max_features=auto, min_samples_leaf=4, min_samples_split=10, n_estimators=1400; total time=18.7min\n",
      "[CV] END criterion=entropy, max_depth=120, max_features=sqrt, min_samples_leaf=1, min_samples_split=2, n_estimators=600; total time=10.9min\n",
      "[CV] END criterion=entropy, max_depth=1000, max_features=sqrt, min_samples_leaf=2, min_samples_split=2, n_estimators=200; total time= 4.0min\n",
      "[CV] END criterion=entropy, max_depth=10, max_features=auto, min_samples_leaf=2, min_samples_split=14, n_estimators=2000; total time=11.9min\n",
      "[CV] END criterion=entropy, max_depth=10, max_features=auto, min_samples_leaf=2, min_samples_split=14, n_estimators=2000; total time=11.8min\n",
      "[CV] END criterion=gini, max_depth=340, max_features=auto, min_samples_leaf=4, min_samples_split=10, n_estimators=1400; total time=19.4min\n",
      "[CV] END criterion=entropy, max_depth=120, max_features=sqrt, min_samples_leaf=1, min_samples_split=2, n_estimators=600; total time=11.3min\n",
      "[CV] END criterion=gini, max_depth=340, max_features=sqrt, min_samples_leaf=1, min_samples_split=14, n_estimators=2000; total time=39.0min\n",
      "[CV] END criterion=entropy, max_depth=1000, max_features=sqrt, min_samples_leaf=2, min_samples_split=2, n_estimators=1400; total time=20.5min\n",
      "[CV] END criterion=entropy, max_depth=1000, max_features=sqrt, min_samples_leaf=2, min_samples_split=2, n_estimators=200; total time= 4.1min\n",
      "[CV] END criterion=entropy, max_depth=10, max_features=auto, min_samples_leaf=2, min_samples_split=14, n_estimators=2000; total time=12.2min\n",
      "[CV] END criterion=entropy, max_depth=10, max_features=sqrt, min_samples_leaf=6, min_samples_split=14, n_estimators=200; total time= 1.1min\n",
      "[CV] END criterion=entropy, max_depth=10, max_features=sqrt, min_samples_leaf=6, min_samples_split=14, n_estimators=200; total time= 1.2min\n",
      "[CV] END criterion=gini, max_depth=670, max_features=log2, min_samples_leaf=4, min_samples_split=2, n_estimators=600; total time= 8.1min\n",
      "[CV] END criterion=entropy, max_depth=670, max_features=log2, min_samples_leaf=6, min_samples_split=10, n_estimators=2000; total time=25.8min\n",
      "[CV] END criterion=entropy, max_depth=120, max_features=sqrt, min_samples_leaf=1, min_samples_split=2, n_estimators=600; total time= 9.2min\n",
      "[CV] END criterion=entropy, max_depth=1000, max_features=sqrt, min_samples_leaf=2, min_samples_split=2, n_estimators=200; total time= 3.9min\n",
      "[CV] END criterion=gini, max_depth=340, max_features=sqrt, min_samples_leaf=1, min_samples_split=14, n_estimators=2000; total time=38.2min\n",
      "[CV] END criterion=entropy, max_depth=1000, max_features=sqrt, min_samples_leaf=2, min_samples_split=2, n_estimators=1400; total time=19.9min\n",
      "[CV] END criterion=gini, max_depth=120, max_features=sqrt, min_samples_leaf=6, min_samples_split=5, n_estimators=1400; total time=18.4min\n",
      "[CV] END criterion=entropy, max_depth=10, max_features=sqrt, min_samples_leaf=6, min_samples_split=14, n_estimators=200; total time= 1.1min\n",
      "[CV] END criterion=entropy, max_depth=670, max_features=log2, min_samples_leaf=6, min_samples_split=10, n_estimators=2000; total time=25.1min\n",
      "[CV] END criterion=entropy, max_depth=1000, max_features=sqrt, min_samples_leaf=2, min_samples_split=2, n_estimators=1400; total time=18.7min\n",
      "CPU Execution time: 654.305186 seconds\n"
     ]
    }
   ],
   "source": [
    "st = time.process_time()\n",
    "rf=RandomForestClassifier()\n",
    "rf_randomcv=RandomizedSearchCV(estimator=rf,param_distributions=random_grid,n_iter=10,cv=3,verbose=2,\n",
    "                               random_state=100,n_jobs=-1)\n",
    "# Fit the randomized model\n",
    "rf_randomcv.fit(X_train_ns,y_train_ns)\n",
    "et = time.process_time()\n",
    "res = et - st\n",
    "print('CPU Execution time:', res, 'seconds')"
   ]
  },
  {
   "cell_type": "code",
   "execution_count": 26,
   "id": "a98d5549",
   "metadata": {},
   "outputs": [
    {
     "data": {
      "text/plain": [
       "{'n_estimators': 600,\n",
       " 'min_samples_split': 2,\n",
       " 'min_samples_leaf': 1,\n",
       " 'max_features': 'sqrt',\n",
       " 'max_depth': 120,\n",
       " 'criterion': 'entropy'}"
      ]
     },
     "execution_count": 26,
     "metadata": {},
     "output_type": "execute_result"
    }
   ],
   "source": [
    "rf_randomcv.best_params_"
   ]
  },
  {
   "cell_type": "code",
   "execution_count": 27,
   "id": "ea742a1f",
   "metadata": {},
   "outputs": [
    {
     "data": {
      "text/plain": [
       "RandomizedSearchCV(cv=3, estimator=RandomForestClassifier(), n_jobs=-1,\n",
       "                   param_distributions={'criterion': ['entropy', 'gini'],\n",
       "                                        'max_depth': [10, 120, 230, 340, 450,\n",
       "                                                      560, 670, 780, 890,\n",
       "                                                      1000],\n",
       "                                        'max_features': ['auto', 'sqrt',\n",
       "                                                         'log2'],\n",
       "                                        'min_samples_leaf': [1, 2, 4, 6, 8],\n",
       "                                        'min_samples_split': [2, 5, 10, 14],\n",
       "                                        'n_estimators': [200, 400, 600, 800,\n",
       "                                                         1000, 1200, 1400, 1600,\n",
       "                                                         1800, 2000]},\n",
       "                   random_state=100, verbose=2)"
      ]
     },
     "execution_count": 27,
     "metadata": {},
     "output_type": "execute_result"
    }
   ],
   "source": [
    "rf_randomcv"
   ]
  },
  {
   "cell_type": "code",
   "execution_count": 28,
   "id": "3600622d",
   "metadata": {},
   "outputs": [],
   "source": [
    "best_random_grid = rf_randomcv.best_estimator_"
   ]
  },
  {
   "cell_type": "code",
   "execution_count": 29,
   "id": "c53b419d",
   "metadata": {},
   "outputs": [
    {
     "name": "stdout",
     "output_type": "stream",
     "text": [
      "[[87078 23380]\n",
      " [ 4533 16263]]\n",
      "Accuracy Score 0.7873360049979429\n",
      "Classification report:               precision    recall  f1-score   support\n",
      "\n",
      "           0       0.95      0.79      0.86    110458\n",
      "           1       0.41      0.78      0.54     20796\n",
      "\n",
      "    accuracy                           0.79    131254\n",
      "   macro avg       0.68      0.79      0.70    131254\n",
      "weighted avg       0.86      0.79      0.81    131254\n",
      "\n"
     ]
    }
   ],
   "source": [
    "y_pred4 = best_random_grid.predict(X_test)\n",
    "print(confusion_matrix(y_test,y_pred4))\n",
    "print(\"Accuracy Score {}\".format(accuracy_score(y_test,y_pred4)))\n",
    "print(\"Classification report: {}\".format(classification_report(y_test,y_pred4)))"
   ]
  },
  {
   "cell_type": "code",
   "execution_count": 30,
   "id": "03d32f5d",
   "metadata": {},
   "outputs": [
    {
     "data": {
      "text/markdown": [
       "------ "
      ],
      "text/plain": [
       "<IPython.core.display.Markdown object>"
      ]
     },
     "metadata": {},
     "output_type": "display_data"
    },
    {
     "data": {
      "text/markdown": [
       "### Random Forest with HPT Model Metrics Summary : "
      ],
      "text/plain": [
       "<IPython.core.display.Markdown object>"
      ]
     },
     "metadata": {},
     "output_type": "display_data"
    },
    {
     "data": {
      "text/markdown": [
       "#### Confusion Matrix : "
      ],
      "text/plain": [
       "<IPython.core.display.Markdown object>"
      ]
     },
     "metadata": {},
     "output_type": "display_data"
    },
    {
     "data": {
      "text/plain": [
       "array([[87078, 23380],\n",
       "       [ 4533, 16263]])"
      ]
     },
     "metadata": {},
     "output_type": "display_data"
    },
    {
     "data": {
      "text/html": [
       "<div>\n",
       "<style scoped>\n",
       "    .dataframe tbody tr th:only-of-type {\n",
       "        vertical-align: middle;\n",
       "    }\n",
       "\n",
       "    .dataframe tbody tr th {\n",
       "        vertical-align: top;\n",
       "    }\n",
       "\n",
       "    .dataframe thead th {\n",
       "        text-align: right;\n",
       "    }\n",
       "</style>\n",
       "<table border=\"1\" class=\"dataframe\">\n",
       "  <thead>\n",
       "    <tr style=\"text-align: right;\">\n",
       "      <th></th>\n",
       "      <th>Model Name</th>\n",
       "      <th>Accuracy</th>\n",
       "      <th>Precision</th>\n",
       "      <th>Recall</th>\n",
       "      <th>AUC</th>\n",
       "      <th>F1</th>\n",
       "      <th>Brier Loss</th>\n",
       "    </tr>\n",
       "  </thead>\n",
       "  <tbody>\n",
       "    <tr>\n",
       "      <th>0</th>\n",
       "      <td>Random Forest with HPT</td>\n",
       "      <td>0.79</td>\n",
       "      <td>0.41</td>\n",
       "      <td>0.78</td>\n",
       "      <td>0.79</td>\n",
       "      <td>0.54</td>\n",
       "      <td>0.2127</td>\n",
       "    </tr>\n",
       "  </tbody>\n",
       "</table>\n",
       "</div>"
      ],
      "text/plain": [
       "               Model Name  Accuracy  Precision  Recall   AUC    F1  Brier Loss\n",
       "0  Random Forest with HPT      0.79       0.41    0.78  0.79  0.54      0.2127"
      ]
     },
     "execution_count": 30,
     "metadata": {},
     "output_type": "execute_result"
    }
   ],
   "source": [
    "# Print the model metrics\n",
    "get_model_metrics(y_test, y_pred4 ,'Random Forest with HPT')"
   ]
  },
  {
   "cell_type": "markdown",
   "id": "f64abe0f",
   "metadata": {},
   "source": [
    "### Training the model\n",
    "## XGBoost Classifier"
   ]
  },
  {
   "cell_type": "code",
   "execution_count": 31,
   "id": "bdac3ad3",
   "metadata": {},
   "outputs": [
    {
     "name": "stdout",
     "output_type": "stream",
     "text": [
      "[03:47:20] WARNING: /var/folders/sy/f16zz6x50xz3113nwtb9bvq00000gp/T/abs_44tbtwf8c1/croots/recipe/xgboost-split_1659548960882/work/src/learner.cc:1115: Starting in XGBoost 1.3.0, the default evaluation metric used with the objective 'binary:logistic' was changed from 'error' to 'logloss'. Explicitly set eval_metric if you'd like to restore the old behavior.\n",
      "CPU Execution time: 59.9117369999999 seconds\n"
     ]
    }
   ],
   "source": [
    "st = time.process_time()\n",
    "xgb_model = xgb.XGBClassifier(n_jobs = -1, objective = 'binary:logistic')\n",
    "xgb_model.fit(X_train_ns, y_train_ns)\n",
    "et = time.process_time()\n",
    "res = et - st\n",
    "print('CPU Execution time:', res, 'seconds')"
   ]
  },
  {
   "cell_type": "code",
   "execution_count": 32,
   "id": "270f8e3d",
   "metadata": {},
   "outputs": [],
   "source": [
    "y_pred5 = xgb_model.predict(X_test)\n",
    "predictions = [round(value) for value in y_pred5]"
   ]
  },
  {
   "cell_type": "code",
   "execution_count": 33,
   "id": "250f312b",
   "metadata": {},
   "outputs": [
    {
     "name": "stdout",
     "output_type": "stream",
     "text": [
      "[[87125 23333]\n",
      " [ 4534 16262]]\n",
      "0.7876864705075655\n",
      "              precision    recall  f1-score   support\n",
      "\n",
      "           0       0.95      0.79      0.86    110458\n",
      "           1       0.41      0.78      0.54     20796\n",
      "\n",
      "    accuracy                           0.79    131254\n",
      "   macro avg       0.68      0.79      0.70    131254\n",
      "weighted avg       0.87      0.79      0.81    131254\n",
      "\n",
      "Accuracy: 78.77%\n"
     ]
    }
   ],
   "source": [
    "accuracy = accuracy_score(y_test, predictions)\n",
    "print(confusion_matrix(y_test,y_pred5))\n",
    "print(accuracy_score(y_test,y_pred5))\n",
    "print(classification_report(y_test,y_pred5))\n",
    "print(\"Accuracy: %.2f%%\" % (accuracy * 100.0))"
   ]
  },
  {
   "cell_type": "code",
   "execution_count": 34,
   "id": "1aaf8f7d",
   "metadata": {},
   "outputs": [
    {
     "data": {
      "text/markdown": [
       "------ "
      ],
      "text/plain": [
       "<IPython.core.display.Markdown object>"
      ]
     },
     "metadata": {},
     "output_type": "display_data"
    },
    {
     "data": {
      "text/markdown": [
       "### XGBoost Classification Model Metrics Summary : "
      ],
      "text/plain": [
       "<IPython.core.display.Markdown object>"
      ]
     },
     "metadata": {},
     "output_type": "display_data"
    },
    {
     "data": {
      "text/markdown": [
       "#### Confusion Matrix : "
      ],
      "text/plain": [
       "<IPython.core.display.Markdown object>"
      ]
     },
     "metadata": {},
     "output_type": "display_data"
    },
    {
     "data": {
      "text/plain": [
       "array([[87125, 23333],\n",
       "       [ 4534, 16262]])"
      ]
     },
     "metadata": {},
     "output_type": "display_data"
    },
    {
     "data": {
      "text/html": [
       "<div>\n",
       "<style scoped>\n",
       "    .dataframe tbody tr th:only-of-type {\n",
       "        vertical-align: middle;\n",
       "    }\n",
       "\n",
       "    .dataframe tbody tr th {\n",
       "        vertical-align: top;\n",
       "    }\n",
       "\n",
       "    .dataframe thead th {\n",
       "        text-align: right;\n",
       "    }\n",
       "</style>\n",
       "<table border=\"1\" class=\"dataframe\">\n",
       "  <thead>\n",
       "    <tr style=\"text-align: right;\">\n",
       "      <th></th>\n",
       "      <th>Model Name</th>\n",
       "      <th>Accuracy</th>\n",
       "      <th>Precision</th>\n",
       "      <th>Recall</th>\n",
       "      <th>AUC</th>\n",
       "      <th>F1</th>\n",
       "      <th>Brier Loss</th>\n",
       "    </tr>\n",
       "  </thead>\n",
       "  <tbody>\n",
       "    <tr>\n",
       "      <th>0</th>\n",
       "      <td>XGBoost Classification</td>\n",
       "      <td>0.79</td>\n",
       "      <td>0.41</td>\n",
       "      <td>0.78</td>\n",
       "      <td>0.79</td>\n",
       "      <td>0.54</td>\n",
       "      <td>0.2123</td>\n",
       "    </tr>\n",
       "  </tbody>\n",
       "</table>\n",
       "</div>"
      ],
      "text/plain": [
       "               Model Name  Accuracy  Precision  Recall   AUC    F1  Brier Loss\n",
       "0  XGBoost Classification      0.79       0.41    0.78  0.79  0.54      0.2123"
      ]
     },
     "execution_count": 34,
     "metadata": {},
     "output_type": "execute_result"
    }
   ],
   "source": [
    "# Print the model metrics\n",
    "get_model_metrics(y_test, y_pred5 ,'XGBoost Classification')"
   ]
  },
  {
   "cell_type": "markdown",
   "id": "9677a9a5",
   "metadata": {},
   "source": [
    "### Training the model\n",
    "## XGBoost Classification with Hyper Parameter Tuning(HPT)"
   ]
  },
  {
   "cell_type": "code",
   "execution_count": 35,
   "id": "8290bd8d",
   "metadata": {},
   "outputs": [
    {
     "name": "stdout",
     "output_type": "stream",
     "text": [
      "Fitting 3 folds for each of 25 candidates, totalling 75 fits\n"
     ]
    },
    {
     "name": "stderr",
     "output_type": "stream",
     "text": [
      "/Users/kshamajha/opt/anaconda3/envs/keras_env/lib/python3.7/site-packages/xgboost/sklearn.py:1224: UserWarning: The use of label encoder in XGBClassifier is deprecated and will be removed in a future release. To remove this warning, do the following: 1) Pass option use_label_encoder=False when constructing XGBClassifier object; and 2) Encode your labels (y) as integers starting with 0, i.e. 0, 1, 2, ..., [num_class - 1].\n",
      "  warnings.warn(label_encoder_deprecation_msg, UserWarning)\n",
      "/Users/kshamajha/opt/anaconda3/envs/keras_env/lib/python3.7/site-packages/xgboost/sklearn.py:1224: UserWarning: The use of label encoder in XGBClassifier is deprecated and will be removed in a future release. To remove this warning, do the following: 1) Pass option use_label_encoder=False when constructing XGBClassifier object; and 2) Encode your labels (y) as integers starting with 0, i.e. 0, 1, 2, ..., [num_class - 1].\n",
      "  warnings.warn(label_encoder_deprecation_msg, UserWarning)\n",
      "/Users/kshamajha/opt/anaconda3/envs/keras_env/lib/python3.7/site-packages/xgboost/sklearn.py:1224: UserWarning: The use of label encoder in XGBClassifier is deprecated and will be removed in a future release. To remove this warning, do the following: 1) Pass option use_label_encoder=False when constructing XGBClassifier object; and 2) Encode your labels (y) as integers starting with 0, i.e. 0, 1, 2, ..., [num_class - 1].\n",
      "  warnings.warn(label_encoder_deprecation_msg, UserWarning)\n",
      "/Users/kshamajha/opt/anaconda3/envs/keras_env/lib/python3.7/site-packages/xgboost/sklearn.py:1224: UserWarning: The use of label encoder in XGBClassifier is deprecated and will be removed in a future release. To remove this warning, do the following: 1) Pass option use_label_encoder=False when constructing XGBClassifier object; and 2) Encode your labels (y) as integers starting with 0, i.e. 0, 1, 2, ..., [num_class - 1].\n",
      "  warnings.warn(label_encoder_deprecation_msg, UserWarning)\n",
      "/Users/kshamajha/opt/anaconda3/envs/keras_env/lib/python3.7/site-packages/xgboost/sklearn.py:1224: UserWarning: The use of label encoder in XGBClassifier is deprecated and will be removed in a future release. To remove this warning, do the following: 1) Pass option use_label_encoder=False when constructing XGBClassifier object; and 2) Encode your labels (y) as integers starting with 0, i.e. 0, 1, 2, ..., [num_class - 1].\n",
      "  warnings.warn(label_encoder_deprecation_msg, UserWarning)\n",
      "/Users/kshamajha/opt/anaconda3/envs/keras_env/lib/python3.7/site-packages/xgboost/sklearn.py:1224: UserWarning: The use of label encoder in XGBClassifier is deprecated and will be removed in a future release. To remove this warning, do the following: 1) Pass option use_label_encoder=False when constructing XGBClassifier object; and 2) Encode your labels (y) as integers starting with 0, i.e. 0, 1, 2, ..., [num_class - 1].\n",
      "  warnings.warn(label_encoder_deprecation_msg, UserWarning)\n",
      "/Users/kshamajha/opt/anaconda3/envs/keras_env/lib/python3.7/site-packages/xgboost/sklearn.py:1224: UserWarning: The use of label encoder in XGBClassifier is deprecated and will be removed in a future release. To remove this warning, do the following: 1) Pass option use_label_encoder=False when constructing XGBClassifier object; and 2) Encode your labels (y) as integers starting with 0, i.e. 0, 1, 2, ..., [num_class - 1].\n",
      "  warnings.warn(label_encoder_deprecation_msg, UserWarning)\n",
      "/Users/kshamajha/opt/anaconda3/envs/keras_env/lib/python3.7/site-packages/xgboost/sklearn.py:1224: UserWarning: The use of label encoder in XGBClassifier is deprecated and will be removed in a future release. To remove this warning, do the following: 1) Pass option use_label_encoder=False when constructing XGBClassifier object; and 2) Encode your labels (y) as integers starting with 0, i.e. 0, 1, 2, ..., [num_class - 1].\n",
      "  warnings.warn(label_encoder_deprecation_msg, UserWarning)\n",
      "/Users/kshamajha/opt/anaconda3/envs/keras_env/lib/python3.7/site-packages/xgboost/sklearn.py:1224: UserWarning: The use of label encoder in XGBClassifier is deprecated and will be removed in a future release. To remove this warning, do the following: 1) Pass option use_label_encoder=False when constructing XGBClassifier object; and 2) Encode your labels (y) as integers starting with 0, i.e. 0, 1, 2, ..., [num_class - 1].\n",
      "  warnings.warn(label_encoder_deprecation_msg, UserWarning)\n",
      "/Users/kshamajha/opt/anaconda3/envs/keras_env/lib/python3.7/site-packages/xgboost/sklearn.py:1224: UserWarning: The use of label encoder in XGBClassifier is deprecated and will be removed in a future release. To remove this warning, do the following: 1) Pass option use_label_encoder=False when constructing XGBClassifier object; and 2) Encode your labels (y) as integers starting with 0, i.e. 0, 1, 2, ..., [num_class - 1].\n",
      "  warnings.warn(label_encoder_deprecation_msg, UserWarning)\n",
      "/Users/kshamajha/opt/anaconda3/envs/keras_env/lib/python3.7/site-packages/xgboost/sklearn.py:1224: UserWarning: The use of label encoder in XGBClassifier is deprecated and will be removed in a future release. To remove this warning, do the following: 1) Pass option use_label_encoder=False when constructing XGBClassifier object; and 2) Encode your labels (y) as integers starting with 0, i.e. 0, 1, 2, ..., [num_class - 1].\n",
      "  warnings.warn(label_encoder_deprecation_msg, UserWarning)\n",
      "/Users/kshamajha/opt/anaconda3/envs/keras_env/lib/python3.7/site-packages/xgboost/sklearn.py:1224: UserWarning: The use of label encoder in XGBClassifier is deprecated and will be removed in a future release. To remove this warning, do the following: 1) Pass option use_label_encoder=False when constructing XGBClassifier object; and 2) Encode your labels (y) as integers starting with 0, i.e. 0, 1, 2, ..., [num_class - 1].\n",
      "  warnings.warn(label_encoder_deprecation_msg, UserWarning)\n",
      "/Users/kshamajha/opt/anaconda3/envs/keras_env/lib/python3.7/site-packages/xgboost/sklearn.py:1224: UserWarning: The use of label encoder in XGBClassifier is deprecated and will be removed in a future release. To remove this warning, do the following: 1) Pass option use_label_encoder=False when constructing XGBClassifier object; and 2) Encode your labels (y) as integers starting with 0, i.e. 0, 1, 2, ..., [num_class - 1].\n",
      "  warnings.warn(label_encoder_deprecation_msg, UserWarning)\n",
      "/Users/kshamajha/opt/anaconda3/envs/keras_env/lib/python3.7/site-packages/xgboost/sklearn.py:1224: UserWarning: The use of label encoder in XGBClassifier is deprecated and will be removed in a future release. To remove this warning, do the following: 1) Pass option use_label_encoder=False when constructing XGBClassifier object; and 2) Encode your labels (y) as integers starting with 0, i.e. 0, 1, 2, ..., [num_class - 1].\n",
      "  warnings.warn(label_encoder_deprecation_msg, UserWarning)\n",
      "/Users/kshamajha/opt/anaconda3/envs/keras_env/lib/python3.7/site-packages/xgboost/sklearn.py:1224: UserWarning: The use of label encoder in XGBClassifier is deprecated and will be removed in a future release. To remove this warning, do the following: 1) Pass option use_label_encoder=False when constructing XGBClassifier object; and 2) Encode your labels (y) as integers starting with 0, i.e. 0, 1, 2, ..., [num_class - 1].\n",
      "  warnings.warn(label_encoder_deprecation_msg, UserWarning)\n",
      "/Users/kshamajha/opt/anaconda3/envs/keras_env/lib/python3.7/site-packages/xgboost/sklearn.py:1224: UserWarning: The use of label encoder in XGBClassifier is deprecated and will be removed in a future release. To remove this warning, do the following: 1) Pass option use_label_encoder=False when constructing XGBClassifier object; and 2) Encode your labels (y) as integers starting with 0, i.e. 0, 1, 2, ..., [num_class - 1].\n",
      "  warnings.warn(label_encoder_deprecation_msg, UserWarning)\n",
      "/Users/kshamajha/opt/anaconda3/envs/keras_env/lib/python3.7/site-packages/xgboost/sklearn.py:1224: UserWarning: The use of label encoder in XGBClassifier is deprecated and will be removed in a future release. To remove this warning, do the following: 1) Pass option use_label_encoder=False when constructing XGBClassifier object; and 2) Encode your labels (y) as integers starting with 0, i.e. 0, 1, 2, ..., [num_class - 1].\n",
      "  warnings.warn(label_encoder_deprecation_msg, UserWarning)\n"
     ]
    },
    {
     "name": "stderr",
     "output_type": "stream",
     "text": [
      "/Users/kshamajha/opt/anaconda3/envs/keras_env/lib/python3.7/site-packages/xgboost/sklearn.py:1224: UserWarning: The use of label encoder in XGBClassifier is deprecated and will be removed in a future release. To remove this warning, do the following: 1) Pass option use_label_encoder=False when constructing XGBClassifier object; and 2) Encode your labels (y) as integers starting with 0, i.e. 0, 1, 2, ..., [num_class - 1].\n",
      "  warnings.warn(label_encoder_deprecation_msg, UserWarning)\n",
      "/Users/kshamajha/opt/anaconda3/envs/keras_env/lib/python3.7/site-packages/xgboost/sklearn.py:1224: UserWarning: The use of label encoder in XGBClassifier is deprecated and will be removed in a future release. To remove this warning, do the following: 1) Pass option use_label_encoder=False when constructing XGBClassifier object; and 2) Encode your labels (y) as integers starting with 0, i.e. 0, 1, 2, ..., [num_class - 1].\n",
      "  warnings.warn(label_encoder_deprecation_msg, UserWarning)\n"
     ]
    },
    {
     "name": "stdout",
     "output_type": "stream",
     "text": [
      "[03:47:30] WARNING: /var/folders/sy/f16zz6x50xz3113nwtb9bvq00000gp/T/abs_44tbtwf8c1/croots/recipe/xgboost-split_1659548960882/work/src/learner.cc:1115: Starting in XGBoost 1.3.0, the default evaluation metric used with the objective 'binary:logistic' was changed from 'error' to 'logloss'. Explicitly set eval_metric if you'd like to restore the old behavior.\n",
      "[CV 2/3] END colsample_bytree=0.5899774242362026, gamma=0.5133240027692805, learning_rate=0.2168543055695109, max_depth=10, min_child_weight=3, n_estimators=1835, subsample=0.5564115790271003;, score=(train=0.801, test=0.798) total time=21.0min\n",
      "[04:09:11] WARNING: /var/folders/sy/f16zz6x50xz3113nwtb9bvq00000gp/T/abs_44tbtwf8c1/croots/recipe/xgboost-split_1659548960882/work/src/learner.cc:1115: Starting in XGBoost 1.3.0, the default evaluation metric used with the objective 'binary:logistic' was changed from 'error' to 'logloss'. Explicitly set eval_metric if you'd like to restore the old behavior.\n",
      "[CV 2/3] END colsample_bytree=0.5282862671180608, gamma=0.6727693701374023, learning_rate=0.20717799053816333, max_depth=10, min_child_weight=4, n_estimators=1907, subsample=0.6393314544058757;, score=(train=0.801, test=0.798) total time=20.2min\n",
      "[03:47:30] WARNING: /var/folders/sy/f16zz6x50xz3113nwtb9bvq00000gp/T/abs_44tbtwf8c1/croots/recipe/xgboost-split_1659548960882/work/src/learner.cc:1115: Starting in XGBoost 1.3.0, the default evaluation metric used with the objective 'binary:logistic' was changed from 'error' to 'logloss'. Explicitly set eval_metric if you'd like to restore the old behavior.\n",
      "[CV 3/3] END colsample_bytree=0.5899774242362026, gamma=0.5133240027692805, learning_rate=0.2168543055695109, max_depth=10, min_child_weight=3, n_estimators=1835, subsample=0.5564115790271003;, score=(train=0.801, test=0.796) total time=21.0min\n",
      "[04:09:12] WARNING: /var/folders/sy/f16zz6x50xz3113nwtb9bvq00000gp/T/abs_44tbtwf8c1/croots/recipe/xgboost-split_1659548960882/work/src/learner.cc:1115: Starting in XGBoost 1.3.0, the default evaluation metric used with the objective 'binary:logistic' was changed from 'error' to 'logloss'. Explicitly set eval_metric if you'd like to restore the old behavior.\n",
      "[CV 3/3] END colsample_bytree=0.5282862671180608, gamma=0.6727693701374023, learning_rate=0.20717799053816333, max_depth=10, min_child_weight=4, n_estimators=1907, subsample=0.6393314544058757;, score=(train=0.801, test=0.797) total time=20.5min\n"
     ]
    },
    {
     "name": "stderr",
     "output_type": "stream",
     "text": [
      "/Users/kshamajha/opt/anaconda3/envs/keras_env/lib/python3.7/site-packages/xgboost/sklearn.py:1224: UserWarning: The use of label encoder in XGBClassifier is deprecated and will be removed in a future release. To remove this warning, do the following: 1) Pass option use_label_encoder=False when constructing XGBClassifier object; and 2) Encode your labels (y) as integers starting with 0, i.e. 0, 1, 2, ..., [num_class - 1].\n",
      "  warnings.warn(label_encoder_deprecation_msg, UserWarning)\n",
      "/Users/kshamajha/opt/anaconda3/envs/keras_env/lib/python3.7/site-packages/xgboost/sklearn.py:1224: UserWarning: The use of label encoder in XGBClassifier is deprecated and will be removed in a future release. To remove this warning, do the following: 1) Pass option use_label_encoder=False when constructing XGBClassifier object; and 2) Encode your labels (y) as integers starting with 0, i.e. 0, 1, 2, ..., [num_class - 1].\n",
      "  warnings.warn(label_encoder_deprecation_msg, UserWarning)\n"
     ]
    },
    {
     "name": "stdout",
     "output_type": "stream",
     "text": [
      "[04:35:14] WARNING: /var/folders/sy/f16zz6x50xz3113nwtb9bvq00000gp/T/abs_44tbtwf8c1/croots/recipe/xgboost-split_1659548960882/work/src/learner.cc:1115: Starting in XGBoost 1.3.0, the default evaluation metric used with the objective 'binary:logistic' was changed from 'error' to 'logloss'. Explicitly set eval_metric if you'd like to restore the old behavior.\n",
      "[CV 2/3] END colsample_bytree=1.1497988950401423, gamma=0.9446974381141752, learning_rate=0.05038938292050717, max_depth=6, min_child_weight=5, n_estimators=1334, subsample=0.8042422429595377;, score=(train=nan, test=nan) total time=   0.1s\n",
      "[CV 3/3] END colsample_bytree=1.1497988950401423, gamma=0.9446974381141752, learning_rate=0.05038938292050717, max_depth=6, min_child_weight=5, n_estimators=1334, subsample=0.8042422429595377;, score=(train=nan, test=nan) total time=   0.1s\n",
      "[CV 2/3] END colsample_bytree=0.9722807884690141, gamma=0.48875051677790415, learning_rate=0.19561457009902095, max_depth=5, min_child_weight=2, n_estimators=1649, subsample=1.4737555188414593;, score=(train=nan, test=nan) total time=   0.1s\n",
      "[03:47:30] WARNING: /var/folders/sy/f16zz6x50xz3113nwtb9bvq00000gp/T/abs_44tbtwf8c1/croots/recipe/xgboost-split_1659548960882/work/src/learner.cc:1115: Starting in XGBoost 1.3.0, the default evaluation metric used with the objective 'binary:logistic' was changed from 'error' to 'logloss'. Explicitly set eval_metric if you'd like to restore the old behavior.\n",
      "[CV 2/3] END colsample_bytree=0.7094942063872738, gamma=0.18154579107953872, learning_rate=0.35919300466654364, max_depth=6, min_child_weight=4, n_estimators=981, subsample=0.9667628932479799;, score=(train=0.801, test=0.798) total time= 6.0min\n",
      "[CV 1/3] END colsample_bytree=1.2739463660626886, gamma=0.7122767847290017, learning_rate=0.2752496259847715, max_depth=4, min_child_weight=4, n_estimators=750, subsample=1.4656320330745594;, score=(train=nan, test=nan) total time=   0.1s\n",
      "[CV 2/3] END colsample_bytree=1.2739463660626886, gamma=0.7122767847290017, learning_rate=0.2752496259847715, max_depth=4, min_child_weight=4, n_estimators=750, subsample=1.4656320330745594;, score=(train=nan, test=nan) total time=   0.1s\n",
      "[CV 3/3] END colsample_bytree=1.2739463660626886, gamma=0.7122767847290017, learning_rate=0.2752496259847715, max_depth=4, min_child_weight=4, n_estimators=750, subsample=1.4656320330745594;, score=(train=nan, test=nan) total time=   0.1s\n",
      "[CV 1/3] END colsample_bytree=1.227557613304815, gamma=0.3741523922560336, learning_rate=0.09883605700319194, max_depth=6, min_child_weight=4, n_estimators=1540, subsample=1.1832635188254583;, score=(train=nan, test=nan) total time=   0.1s\n",
      "[CV 2/3] END colsample_bytree=1.227557613304815, gamma=0.3741523922560336, learning_rate=0.09883605700319194, max_depth=6, min_child_weight=4, n_estimators=1540, subsample=1.1832635188254583;, score=(train=nan, test=nan) total time=   0.1s\n",
      "[CV 3/3] END colsample_bytree=1.227557613304815, gamma=0.3741523922560336, learning_rate=0.09883605700319194, max_depth=6, min_child_weight=4, n_estimators=1540, subsample=1.1832635188254583;, score=(train=nan, test=nan) total time=   0.1s\n",
      "[CV 1/3] END colsample_bytree=1.048996992004359, gamma=0.849875420562548, learning_rate=0.13668232675388603, max_depth=3, min_child_weight=4, n_estimators=1735, subsample=1.162522284353982;, score=(train=nan, test=nan) total time=   0.1s\n",
      "[CV 2/3] END colsample_bytree=1.048996992004359, gamma=0.849875420562548, learning_rate=0.13668232675388603, max_depth=3, min_child_weight=4, n_estimators=1735, subsample=1.162522284353982;, score=(train=nan, test=nan) total time=   0.1s\n",
      "[CV 3/3] END colsample_bytree=1.048996992004359, gamma=0.849875420562548, learning_rate=0.13668232675388603, max_depth=3, min_child_weight=4, n_estimators=1735, subsample=1.162522284353982;, score=(train=nan, test=nan) total time=   0.1s\n",
      "[CV 1/3] END colsample_bytree=0.7805399684804699, gamma=0.5680612190600297, learning_rate=0.3233551396716398, max_depth=8, min_child_weight=5, n_estimators=852, subsample=1.3422847745949986;, score=(train=nan, test=nan) total time=   0.1s\n",
      "[CV 2/3] END colsample_bytree=0.7805399684804699, gamma=0.5680612190600297, learning_rate=0.3233551396716398, max_depth=8, min_child_weight=5, n_estimators=852, subsample=1.3422847745949986;, score=(train=nan, test=nan) total time=   0.1s\n",
      "[CV 3/3] END colsample_bytree=0.7805399684804699, gamma=0.5680612190600297, learning_rate=0.3233551396716398, max_depth=8, min_child_weight=5, n_estimators=852, subsample=1.3422847745949986;, score=(train=nan, test=nan) total time=   0.1s\n",
      "[CV 1/3] END colsample_bytree=0.904778720032789, gamma=0.45563521240163296, learning_rate=0.5133294328968971, max_depth=9, min_child_weight=4, n_estimators=1166, subsample=1.4611720243493491;, score=(train=nan, test=nan) total time=   0.1s\n",
      "[CV 2/3] END colsample_bytree=0.904778720032789, gamma=0.45563521240163296, learning_rate=0.5133294328968971, max_depth=9, min_child_weight=4, n_estimators=1166, subsample=1.4611720243493491;, score=(train=nan, test=nan) total time=   0.1s\n",
      "[CV 3/3] END colsample_bytree=0.904778720032789, gamma=0.45563521240163296, learning_rate=0.5133294328968971, max_depth=9, min_child_weight=4, n_estimators=1166, subsample=1.4611720243493491;, score=(train=nan, test=nan) total time=   0.1s\n",
      "[CV 1/3] END colsample_bytree=1.2600804638103362, gamma=0.7725880991236428, learning_rate=0.31984606619453987, max_depth=10, min_child_weight=2, n_estimators=366, subsample=0.7809345096873808;, score=(train=nan, test=nan) total time=   0.1s\n",
      "[CV 2/3] END colsample_bytree=1.2600804638103362, gamma=0.7725880991236428, learning_rate=0.31984606619453987, max_depth=10, min_child_weight=2, n_estimators=366, subsample=0.7809345096873808;, score=(train=nan, test=nan) total time=   0.1s\n",
      "[CV 3/3] END colsample_bytree=1.2600804638103362, gamma=0.7725880991236428, learning_rate=0.31984606619453987, max_depth=10, min_child_weight=2, n_estimators=366, subsample=0.7809345096873808;, score=(train=nan, test=nan) total time=   0.1s\n",
      "[CV 1/3] END colsample_bytree=0.9884264748424236, gamma=0.2268318024772864, learning_rate=0.4510984903770198, max_depth=3, min_child_weight=1, n_estimators=670, subsample=1.2722447692966574;, score=(train=nan, test=nan) total time=   0.1s\n",
      "[CV 2/3] END colsample_bytree=0.9884264748424236, gamma=0.2268318024772864, learning_rate=0.4510984903770198, max_depth=3, min_child_weight=1, n_estimators=670, subsample=1.2722447692966574;, score=(train=nan, test=nan) total time=   0.1s\n",
      "[CV 3/3] END colsample_bytree=0.9884264748424236, gamma=0.2268318024772864, learning_rate=0.4510984903770198, max_depth=3, min_child_weight=1, n_estimators=670, subsample=1.2722447692966574;, score=(train=nan, test=nan) total time=   0.1s\n",
      "[CV 1/3] END colsample_bytree=0.6788441133807552, gamma=0.10496990541124217, learning_rate=0.45773071422741707, max_depth=3, min_child_weight=3, n_estimators=568, subsample=1.2712703466859456;, score=(train=nan, test=nan) total time=   0.1s\n",
      "[CV 2/3] END colsample_bytree=0.6788441133807552, gamma=0.10496990541124217, learning_rate=0.45773071422741707, max_depth=3, min_child_weight=3, n_estimators=568, subsample=1.2712703466859456;, score=(train=nan, test=nan) total time=   0.1s\n",
      "[CV 3/3] END colsample_bytree=0.6788441133807552, gamma=0.10496990541124217, learning_rate=0.45773071422741707, max_depth=3, min_child_weight=3, n_estimators=568, subsample=1.2712703466859456;, score=(train=nan, test=nan) total time=   0.1s\n",
      "[03:53:38] WARNING: /var/folders/sy/f16zz6x50xz3113nwtb9bvq00000gp/T/abs_44tbtwf8c1/croots/recipe/xgboost-split_1659548960882/work/src/learner.cc:1115: Starting in XGBoost 1.3.0, the default evaluation metric used with the objective 'binary:logistic' was changed from 'error' to 'logloss'. Explicitly set eval_metric if you'd like to restore the old behavior.\n",
      "[CV 1/3] END colsample_bytree=0.5666401865606814, gamma=0.4226191556898453, learning_rate=0.10793452976256486, max_depth=9, min_child_weight=1, n_estimators=929, subsample=0.8308980248526492;, score=(train=0.805, test=0.792) total time= 8.4min\n",
      "[04:02:09] WARNING: /var/folders/sy/f16zz6x50xz3113nwtb9bvq00000gp/T/abs_44tbtwf8c1/croots/recipe/xgboost-split_1659548960882/work/src/learner.cc:1115: Starting in XGBoost 1.3.0, the default evaluation metric used with the objective 'binary:logistic' was changed from 'error' to 'logloss'. Explicitly set eval_metric if you'd like to restore the old behavior.\n",
      "[CV 3/3] END colsample_bytree=0.9249934326457544, gamma=0.20763482134447153, learning_rate=0.4066223936114975, max_depth=3, min_child_weight=5, n_estimators=1391, subsample=0.7359849197489557;, score=(train=0.799, test=0.795) total time= 4.3min\n",
      "[04:06:29] WARNING: /var/folders/sy/f16zz6x50xz3113nwtb9bvq00000gp/T/abs_44tbtwf8c1/croots/recipe/xgboost-split_1659548960882/work/src/learner.cc:1115: Starting in XGBoost 1.3.0, the default evaluation metric used with the objective 'binary:logistic' was changed from 'error' to 'logloss'. Explicitly set eval_metric if you'd like to restore the old behavior.\n",
      "[CV 3/3] END colsample_bytree=0.7304614904851916, gamma=0.1363902305845882, learning_rate=0.4053314448428937, max_depth=4, min_child_weight=2, n_estimators=1041, subsample=0.6078914269933045;, score=(train=0.800, test=0.796) total time= 5.1min\n",
      "[04:11:37] WARNING: /var/folders/sy/f16zz6x50xz3113nwtb9bvq00000gp/T/abs_44tbtwf8c1/croots/recipe/xgboost-split_1659548960882/work/src/learner.cc:1115: Starting in XGBoost 1.3.0, the default evaluation metric used with the objective 'binary:logistic' was changed from 'error' to 'logloss'. Explicitly set eval_metric if you'd like to restore the old behavior.\n",
      "[CV 2/3] END colsample_bytree=0.5990467320749091, gamma=0.30514164628774754, learning_rate=0.26355389431312815, max_depth=6, min_child_weight=5, n_estimators=1918, subsample=0.804781258158029;, score=(train=0.801, test=0.798) total time=10.7min\n",
      "[04:22:24] WARNING: /var/folders/sy/f16zz6x50xz3113nwtb9bvq00000gp/T/abs_44tbtwf8c1/croots/recipe/xgboost-split_1659548960882/work/src/learner.cc:1115: Starting in XGBoost 1.3.0, the default evaluation metric used with the objective 'binary:logistic' was changed from 'error' to 'logloss'. Explicitly set eval_metric if you'd like to restore the old behavior.\n",
      "[CV 1/3] END colsample_bytree=0.6481902678286475, gamma=0.5806804774378977, learning_rate=0.2924149856794916, max_depth=3, min_child_weight=3, n_estimators=1407, subsample=0.837615171403628;, score=(train=0.801, test=0.792) total time= 3.7min\n",
      "[04:26:05] WARNING: /var/folders/sy/f16zz6x50xz3113nwtb9bvq00000gp/T/abs_44tbtwf8c1/croots/recipe/xgboost-split_1659548960882/work/src/learner.cc:1115: Starting in XGBoost 1.3.0, the default evaluation metric used with the objective 'binary:logistic' was changed from 'error' to 'logloss'. Explicitly set eval_metric if you'd like to restore the old behavior.\n",
      "[CV 2/3] END colsample_bytree=0.6481902678286475, gamma=0.5806804774378977, learning_rate=0.2924149856794916, max_depth=3, min_child_weight=3, n_estimators=1407, subsample=0.837615171403628;, score=(train=0.798, test=0.796) total time= 4.9min\n"
     ]
    },
    {
     "name": "stderr",
     "output_type": "stream",
     "text": [
      "/Users/kshamajha/opt/anaconda3/envs/keras_env/lib/python3.7/site-packages/xgboost/sklearn.py:1224: UserWarning: The use of label encoder in XGBClassifier is deprecated and will be removed in a future release. To remove this warning, do the following: 1) Pass option use_label_encoder=False when constructing XGBClassifier object; and 2) Encode your labels (y) as integers starting with 0, i.e. 0, 1, 2, ..., [num_class - 1].\n",
      "  warnings.warn(label_encoder_deprecation_msg, UserWarning)\n",
      "/Users/kshamajha/opt/anaconda3/envs/keras_env/lib/python3.7/site-packages/xgboost/sklearn.py:1224: UserWarning: The use of label encoder in XGBClassifier is deprecated and will be removed in a future release. To remove this warning, do the following: 1) Pass option use_label_encoder=False when constructing XGBClassifier object; and 2) Encode your labels (y) as integers starting with 0, i.e. 0, 1, 2, ..., [num_class - 1].\n",
      "  warnings.warn(label_encoder_deprecation_msg, UserWarning)\n",
      "/Users/kshamajha/opt/anaconda3/envs/keras_env/lib/python3.7/site-packages/xgboost/sklearn.py:1224: UserWarning: The use of label encoder in XGBClassifier is deprecated and will be removed in a future release. To remove this warning, do the following: 1) Pass option use_label_encoder=False when constructing XGBClassifier object; and 2) Encode your labels (y) as integers starting with 0, i.e. 0, 1, 2, ..., [num_class - 1].\n",
      "  warnings.warn(label_encoder_deprecation_msg, UserWarning)\n",
      "/Users/kshamajha/opt/anaconda3/envs/keras_env/lib/python3.7/site-packages/xgboost/sklearn.py:1224: UserWarning: The use of label encoder in XGBClassifier is deprecated and will be removed in a future release. To remove this warning, do the following: 1) Pass option use_label_encoder=False when constructing XGBClassifier object; and 2) Encode your labels (y) as integers starting with 0, i.e. 0, 1, 2, ..., [num_class - 1].\n",
      "  warnings.warn(label_encoder_deprecation_msg, UserWarning)\n",
      "/Users/kshamajha/opt/anaconda3/envs/keras_env/lib/python3.7/site-packages/xgboost/sklearn.py:1224: UserWarning: The use of label encoder in XGBClassifier is deprecated and will be removed in a future release. To remove this warning, do the following: 1) Pass option use_label_encoder=False when constructing XGBClassifier object; and 2) Encode your labels (y) as integers starting with 0, i.e. 0, 1, 2, ..., [num_class - 1].\n",
      "  warnings.warn(label_encoder_deprecation_msg, UserWarning)\n",
      "/Users/kshamajha/opt/anaconda3/envs/keras_env/lib/python3.7/site-packages/xgboost/sklearn.py:1224: UserWarning: The use of label encoder in XGBClassifier is deprecated and will be removed in a future release. To remove this warning, do the following: 1) Pass option use_label_encoder=False when constructing XGBClassifier object; and 2) Encode your labels (y) as integers starting with 0, i.e. 0, 1, 2, ..., [num_class - 1].\n",
      "  warnings.warn(label_encoder_deprecation_msg, UserWarning)\n",
      "/Users/kshamajha/opt/anaconda3/envs/keras_env/lib/python3.7/site-packages/xgboost/sklearn.py:1224: UserWarning: The use of label encoder in XGBClassifier is deprecated and will be removed in a future release. To remove this warning, do the following: 1) Pass option use_label_encoder=False when constructing XGBClassifier object; and 2) Encode your labels (y) as integers starting with 0, i.e. 0, 1, 2, ..., [num_class - 1].\n",
      "  warnings.warn(label_encoder_deprecation_msg, UserWarning)\n",
      "/Users/kshamajha/opt/anaconda3/envs/keras_env/lib/python3.7/site-packages/xgboost/sklearn.py:1224: UserWarning: The use of label encoder in XGBClassifier is deprecated and will be removed in a future release. To remove this warning, do the following: 1) Pass option use_label_encoder=False when constructing XGBClassifier object; and 2) Encode your labels (y) as integers starting with 0, i.e. 0, 1, 2, ..., [num_class - 1].\n",
      "  warnings.warn(label_encoder_deprecation_msg, UserWarning)\n",
      "/Users/kshamajha/opt/anaconda3/envs/keras_env/lib/python3.7/site-packages/xgboost/sklearn.py:1224: UserWarning: The use of label encoder in XGBClassifier is deprecated and will be removed in a future release. To remove this warning, do the following: 1) Pass option use_label_encoder=False when constructing XGBClassifier object; and 2) Encode your labels (y) as integers starting with 0, i.e. 0, 1, 2, ..., [num_class - 1].\n",
      "  warnings.warn(label_encoder_deprecation_msg, UserWarning)\n",
      "/Users/kshamajha/opt/anaconda3/envs/keras_env/lib/python3.7/site-packages/xgboost/sklearn.py:1224: UserWarning: The use of label encoder in XGBClassifier is deprecated and will be removed in a future release. To remove this warning, do the following: 1) Pass option use_label_encoder=False when constructing XGBClassifier object; and 2) Encode your labels (y) as integers starting with 0, i.e. 0, 1, 2, ..., [num_class - 1].\n",
      "  warnings.warn(label_encoder_deprecation_msg, UserWarning)\n",
      "/Users/kshamajha/opt/anaconda3/envs/keras_env/lib/python3.7/site-packages/xgboost/sklearn.py:1224: UserWarning: The use of label encoder in XGBClassifier is deprecated and will be removed in a future release. To remove this warning, do the following: 1) Pass option use_label_encoder=False when constructing XGBClassifier object; and 2) Encode your labels (y) as integers starting with 0, i.e. 0, 1, 2, ..., [num_class - 1].\n",
      "  warnings.warn(label_encoder_deprecation_msg, UserWarning)\n",
      "/Users/kshamajha/opt/anaconda3/envs/keras_env/lib/python3.7/site-packages/xgboost/sklearn.py:1224: UserWarning: The use of label encoder in XGBClassifier is deprecated and will be removed in a future release. To remove this warning, do the following: 1) Pass option use_label_encoder=False when constructing XGBClassifier object; and 2) Encode your labels (y) as integers starting with 0, i.e. 0, 1, 2, ..., [num_class - 1].\n",
      "  warnings.warn(label_encoder_deprecation_msg, UserWarning)\n",
      "/Users/kshamajha/opt/anaconda3/envs/keras_env/lib/python3.7/site-packages/xgboost/sklearn.py:1224: UserWarning: The use of label encoder in XGBClassifier is deprecated and will be removed in a future release. To remove this warning, do the following: 1) Pass option use_label_encoder=False when constructing XGBClassifier object; and 2) Encode your labels (y) as integers starting with 0, i.e. 0, 1, 2, ..., [num_class - 1].\n",
      "  warnings.warn(label_encoder_deprecation_msg, UserWarning)\n",
      "/Users/kshamajha/opt/anaconda3/envs/keras_env/lib/python3.7/site-packages/xgboost/sklearn.py:1224: UserWarning: The use of label encoder in XGBClassifier is deprecated and will be removed in a future release. To remove this warning, do the following: 1) Pass option use_label_encoder=False when constructing XGBClassifier object; and 2) Encode your labels (y) as integers starting with 0, i.e. 0, 1, 2, ..., [num_class - 1].\n",
      "  warnings.warn(label_encoder_deprecation_msg, UserWarning)\n",
      "/Users/kshamajha/opt/anaconda3/envs/keras_env/lib/python3.7/site-packages/xgboost/sklearn.py:1224: UserWarning: The use of label encoder in XGBClassifier is deprecated and will be removed in a future release. To remove this warning, do the following: 1) Pass option use_label_encoder=False when constructing XGBClassifier object; and 2) Encode your labels (y) as integers starting with 0, i.e. 0, 1, 2, ..., [num_class - 1].\n",
      "  warnings.warn(label_encoder_deprecation_msg, UserWarning)\n",
      "/Users/kshamajha/opt/anaconda3/envs/keras_env/lib/python3.7/site-packages/xgboost/sklearn.py:1224: UserWarning: The use of label encoder in XGBClassifier is deprecated and will be removed in a future release. To remove this warning, do the following: 1) Pass option use_label_encoder=False when constructing XGBClassifier object; and 2) Encode your labels (y) as integers starting with 0, i.e. 0, 1, 2, ..., [num_class - 1].\n",
      "  warnings.warn(label_encoder_deprecation_msg, UserWarning)\n",
      "/Users/kshamajha/opt/anaconda3/envs/keras_env/lib/python3.7/site-packages/xgboost/sklearn.py:1224: UserWarning: The use of label encoder in XGBClassifier is deprecated and will be removed in a future release. To remove this warning, do the following: 1) Pass option use_label_encoder=False when constructing XGBClassifier object; and 2) Encode your labels (y) as integers starting with 0, i.e. 0, 1, 2, ..., [num_class - 1].\n",
      "  warnings.warn(label_encoder_deprecation_msg, UserWarning)\n"
     ]
    },
    {
     "name": "stdout",
     "output_type": "stream",
     "text": [
      "[CV 1/3] END colsample_bytree=1.1497988950401423, gamma=0.9446974381141752, learning_rate=0.05038938292050717, max_depth=6, min_child_weight=5, n_estimators=1334, subsample=0.8042422429595377;, score=(train=nan, test=nan) total time=   0.1s\n",
      "[CV 1/3] END colsample_bytree=0.9722807884690141, gamma=0.48875051677790415, learning_rate=0.19561457009902095, max_depth=5, min_child_weight=2, n_estimators=1649, subsample=1.4737555188414593;, score=(train=nan, test=nan) total time=   0.1s\n",
      "[CV 3/3] END colsample_bytree=0.9722807884690141, gamma=0.48875051677790415, learning_rate=0.19561457009902095, max_depth=5, min_child_weight=2, n_estimators=1649, subsample=1.4737555188414593;, score=(train=nan, test=nan) total time=   0.1s\n",
      "[03:47:30] WARNING: /var/folders/sy/f16zz6x50xz3113nwtb9bvq00000gp/T/abs_44tbtwf8c1/croots/recipe/xgboost-split_1659548960882/work/src/learner.cc:1115: Starting in XGBoost 1.3.0, the default evaluation metric used with the objective 'binary:logistic' was changed from 'error' to 'logloss'. Explicitly set eval_metric if you'd like to restore the old behavior.\n",
      "[CV 1/3] END colsample_bytree=0.7094942063872738, gamma=0.18154579107953872, learning_rate=0.35919300466654364, max_depth=6, min_child_weight=4, n_estimators=981, subsample=0.9667628932479799;, score=(train=0.805, test=0.792) total time= 5.9min\n",
      "[03:53:27] WARNING: /var/folders/sy/f16zz6x50xz3113nwtb9bvq00000gp/T/abs_44tbtwf8c1/croots/recipe/xgboost-split_1659548960882/work/src/learner.cc:1115: Starting in XGBoost 1.3.0, the default evaluation metric used with the objective 'binary:logistic' was changed from 'error' to 'logloss'. Explicitly set eval_metric if you'd like to restore the old behavior.\n",
      "[CV 3/3] END colsample_bytree=0.7094942063872738, gamma=0.18154579107953872, learning_rate=0.35919300466654364, max_depth=6, min_child_weight=4, n_estimators=981, subsample=0.9667628932479799;, score=(train=0.801, test=0.797) total time= 5.7min\n",
      "[03:59:09] WARNING: /var/folders/sy/f16zz6x50xz3113nwtb9bvq00000gp/T/abs_44tbtwf8c1/croots/recipe/xgboost-split_1659548960882/work/src/learner.cc:1115: Starting in XGBoost 1.3.0, the default evaluation metric used with the objective 'binary:logistic' was changed from 'error' to 'logloss'. Explicitly set eval_metric if you'd like to restore the old behavior.\n",
      "[CV 2/3] END colsample_bytree=0.5666401865606814, gamma=0.4226191556898453, learning_rate=0.10793452976256486, max_depth=9, min_child_weight=1, n_estimators=929, subsample=0.8308980248526492;, score=(train=0.801, test=0.798) total time= 9.9min\n",
      "[CV 1/3] END colsample_bytree=1.0439756413500354, gamma=0.5858569821715058, learning_rate=0.1515306123673847, max_depth=7, min_child_weight=3, n_estimators=1416, subsample=0.6612212872540044;, score=(train=nan, test=nan) total time=   0.1s\n",
      "[CV 2/3] END colsample_bytree=1.0439756413500354, gamma=0.5858569821715058, learning_rate=0.1515306123673847, max_depth=7, min_child_weight=3, n_estimators=1416, subsample=0.6612212872540044;, score=(train=nan, test=nan) total time=   0.1s\n",
      "[CV 3/3] END colsample_bytree=1.0439756413500354, gamma=0.5858569821715058, learning_rate=0.1515306123673847, max_depth=7, min_child_weight=3, n_estimators=1416, subsample=0.6612212872540044;, score=(train=nan, test=nan) total time=   0.1s\n",
      "[CV 1/3] END colsample_bytree=1.336727887108316, gamma=0.8273083416079753, learning_rate=0.3667018782552117, max_depth=8, min_child_weight=4, n_estimators=1201, subsample=0.7184404372168336;, score=(train=nan, test=nan) total time=   0.1s\n",
      "[CV 2/3] END colsample_bytree=1.336727887108316, gamma=0.8273083416079753, learning_rate=0.3667018782552117, max_depth=8, min_child_weight=4, n_estimators=1201, subsample=0.7184404372168336;, score=(train=nan, test=nan) total time=   0.1s\n",
      "[CV 3/3] END colsample_bytree=1.336727887108316, gamma=0.8273083416079753, learning_rate=0.3667018782552117, max_depth=8, min_child_weight=4, n_estimators=1201, subsample=0.7184404372168336;, score=(train=nan, test=nan) total time=   0.1s\n",
      "[04:09:13] WARNING: /var/folders/sy/f16zz6x50xz3113nwtb9bvq00000gp/T/abs_44tbtwf8c1/croots/recipe/xgboost-split_1659548960882/work/src/learner.cc:1115: Starting in XGBoost 1.3.0, the default evaluation metric used with the objective 'binary:logistic' was changed from 'error' to 'logloss'. Explicitly set eval_metric if you'd like to restore the old behavior.\n",
      "[CV 1/3] END colsample_bytree=0.8748589530833296, gamma=0.8949522330269815, learning_rate=0.21217251050263697, max_depth=9, min_child_weight=4, n_estimators=1646, subsample=0.8180034749718639;, score=(train=0.805, test=0.793) total time=17.4min\n",
      "[04:26:43] WARNING: /var/folders/sy/f16zz6x50xz3113nwtb9bvq00000gp/T/abs_44tbtwf8c1/croots/recipe/xgboost-split_1659548960882/work/src/learner.cc:1115: Starting in XGBoost 1.3.0, the default evaluation metric used with the objective 'binary:logistic' was changed from 'error' to 'logloss'. Explicitly set eval_metric if you'd like to restore the old behavior.\n",
      "[CV 3/3] END colsample_bytree=0.6481902678286475, gamma=0.5806804774378977, learning_rate=0.2924149856794916, max_depth=3, min_child_weight=3, n_estimators=1407, subsample=0.837615171403628;, score=(train=0.798, test=0.795) total time= 4.7min\n"
     ]
    },
    {
     "name": "stderr",
     "output_type": "stream",
     "text": [
      "/Users/kshamajha/opt/anaconda3/envs/keras_env/lib/python3.7/site-packages/xgboost/sklearn.py:1224: UserWarning: The use of label encoder in XGBClassifier is deprecated and will be removed in a future release. To remove this warning, do the following: 1) Pass option use_label_encoder=False when constructing XGBClassifier object; and 2) Encode your labels (y) as integers starting with 0, i.e. 0, 1, 2, ..., [num_class - 1].\n",
      "  warnings.warn(label_encoder_deprecation_msg, UserWarning)\n",
      "/Users/kshamajha/opt/anaconda3/envs/keras_env/lib/python3.7/site-packages/xgboost/sklearn.py:1224: UserWarning: The use of label encoder in XGBClassifier is deprecated and will be removed in a future release. To remove this warning, do the following: 1) Pass option use_label_encoder=False when constructing XGBClassifier object; and 2) Encode your labels (y) as integers starting with 0, i.e. 0, 1, 2, ..., [num_class - 1].\n",
      "  warnings.warn(label_encoder_deprecation_msg, UserWarning)\n",
      "/Users/kshamajha/opt/anaconda3/envs/keras_env/lib/python3.7/site-packages/xgboost/sklearn.py:1224: UserWarning: The use of label encoder in XGBClassifier is deprecated and will be removed in a future release. To remove this warning, do the following: 1) Pass option use_label_encoder=False when constructing XGBClassifier object; and 2) Encode your labels (y) as integers starting with 0, i.e. 0, 1, 2, ..., [num_class - 1].\n",
      "  warnings.warn(label_encoder_deprecation_msg, UserWarning)\n",
      "/Users/kshamajha/opt/anaconda3/envs/keras_env/lib/python3.7/site-packages/xgboost/sklearn.py:1224: UserWarning: The use of label encoder in XGBClassifier is deprecated and will be removed in a future release. To remove this warning, do the following: 1) Pass option use_label_encoder=False when constructing XGBClassifier object; and 2) Encode your labels (y) as integers starting with 0, i.e. 0, 1, 2, ..., [num_class - 1].\n",
      "  warnings.warn(label_encoder_deprecation_msg, UserWarning)\n",
      "/Users/kshamajha/opt/anaconda3/envs/keras_env/lib/python3.7/site-packages/xgboost/sklearn.py:1224: UserWarning: The use of label encoder in XGBClassifier is deprecated and will be removed in a future release. To remove this warning, do the following: 1) Pass option use_label_encoder=False when constructing XGBClassifier object; and 2) Encode your labels (y) as integers starting with 0, i.e. 0, 1, 2, ..., [num_class - 1].\n",
      "  warnings.warn(label_encoder_deprecation_msg, UserWarning)\n",
      "/Users/kshamajha/opt/anaconda3/envs/keras_env/lib/python3.7/site-packages/xgboost/sklearn.py:1224: UserWarning: The use of label encoder in XGBClassifier is deprecated and will be removed in a future release. To remove this warning, do the following: 1) Pass option use_label_encoder=False when constructing XGBClassifier object; and 2) Encode your labels (y) as integers starting with 0, i.e. 0, 1, 2, ..., [num_class - 1].\n",
      "  warnings.warn(label_encoder_deprecation_msg, UserWarning)\n",
      "/Users/kshamajha/opt/anaconda3/envs/keras_env/lib/python3.7/site-packages/xgboost/sklearn.py:1224: UserWarning: The use of label encoder in XGBClassifier is deprecated and will be removed in a future release. To remove this warning, do the following: 1) Pass option use_label_encoder=False when constructing XGBClassifier object; and 2) Encode your labels (y) as integers starting with 0, i.e. 0, 1, 2, ..., [num_class - 1].\n",
      "  warnings.warn(label_encoder_deprecation_msg, UserWarning)\n",
      "/Users/kshamajha/opt/anaconda3/envs/keras_env/lib/python3.7/site-packages/xgboost/sklearn.py:1224: UserWarning: The use of label encoder in XGBClassifier is deprecated and will be removed in a future release. To remove this warning, do the following: 1) Pass option use_label_encoder=False when constructing XGBClassifier object; and 2) Encode your labels (y) as integers starting with 0, i.e. 0, 1, 2, ..., [num_class - 1].\n",
      "  warnings.warn(label_encoder_deprecation_msg, UserWarning)\n",
      "/Users/kshamajha/opt/anaconda3/envs/keras_env/lib/python3.7/site-packages/xgboost/sklearn.py:1224: UserWarning: The use of label encoder in XGBClassifier is deprecated and will be removed in a future release. To remove this warning, do the following: 1) Pass option use_label_encoder=False when constructing XGBClassifier object; and 2) Encode your labels (y) as integers starting with 0, i.e. 0, 1, 2, ..., [num_class - 1].\n",
      "  warnings.warn(label_encoder_deprecation_msg, UserWarning)\n",
      "/Users/kshamajha/opt/anaconda3/envs/keras_env/lib/python3.7/site-packages/xgboost/sklearn.py:1224: UserWarning: The use of label encoder in XGBClassifier is deprecated and will be removed in a future release. To remove this warning, do the following: 1) Pass option use_label_encoder=False when constructing XGBClassifier object; and 2) Encode your labels (y) as integers starting with 0, i.e. 0, 1, 2, ..., [num_class - 1].\n",
      "  warnings.warn(label_encoder_deprecation_msg, UserWarning)\n",
      "/Users/kshamajha/opt/anaconda3/envs/keras_env/lib/python3.7/site-packages/xgboost/sklearn.py:1224: UserWarning: The use of label encoder in XGBClassifier is deprecated and will be removed in a future release. To remove this warning, do the following: 1) Pass option use_label_encoder=False when constructing XGBClassifier object; and 2) Encode your labels (y) as integers starting with 0, i.e. 0, 1, 2, ..., [num_class - 1].\n",
      "  warnings.warn(label_encoder_deprecation_msg, UserWarning)\n",
      "/Users/kshamajha/opt/anaconda3/envs/keras_env/lib/python3.7/site-packages/xgboost/sklearn.py:1224: UserWarning: The use of label encoder in XGBClassifier is deprecated and will be removed in a future release. To remove this warning, do the following: 1) Pass option use_label_encoder=False when constructing XGBClassifier object; and 2) Encode your labels (y) as integers starting with 0, i.e. 0, 1, 2, ..., [num_class - 1].\n",
      "  warnings.warn(label_encoder_deprecation_msg, UserWarning)\n",
      "/Users/kshamajha/opt/anaconda3/envs/keras_env/lib/python3.7/site-packages/xgboost/sklearn.py:1224: UserWarning: The use of label encoder in XGBClassifier is deprecated and will be removed in a future release. To remove this warning, do the following: 1) Pass option use_label_encoder=False when constructing XGBClassifier object; and 2) Encode your labels (y) as integers starting with 0, i.e. 0, 1, 2, ..., [num_class - 1].\n",
      "  warnings.warn(label_encoder_deprecation_msg, UserWarning)\n",
      "/Users/kshamajha/opt/anaconda3/envs/keras_env/lib/python3.7/site-packages/xgboost/sklearn.py:1224: UserWarning: The use of label encoder in XGBClassifier is deprecated and will be removed in a future release. To remove this warning, do the following: 1) Pass option use_label_encoder=False when constructing XGBClassifier object; and 2) Encode your labels (y) as integers starting with 0, i.e. 0, 1, 2, ..., [num_class - 1].\n",
      "  warnings.warn(label_encoder_deprecation_msg, UserWarning)\n"
     ]
    },
    {
     "name": "stdout",
     "output_type": "stream",
     "text": [
      "[03:47:30] WARNING: /var/folders/sy/f16zz6x50xz3113nwtb9bvq00000gp/T/abs_44tbtwf8c1/croots/recipe/xgboost-split_1659548960882/work/src/learner.cc:1115: Starting in XGBoost 1.3.0, the default evaluation metric used with the objective 'binary:logistic' was changed from 'error' to 'logloss'. Explicitly set eval_metric if you'd like to restore the old behavior.\n",
      "[CV 1/3] END colsample_bytree=0.8370861069626263, gamma=0.9556428757689246, learning_rate=0.41599697090570253, max_depth=7, min_child_weight=5, n_estimators=1788, subsample=0.9458327528535911;, score=(train=0.805, test=0.792) total time=13.0min\n",
      "[04:00:35] WARNING: /var/folders/sy/f16zz6x50xz3113nwtb9bvq00000gp/T/abs_44tbtwf8c1/croots/recipe/xgboost-split_1659548960882/work/src/learner.cc:1115: Starting in XGBoost 1.3.0, the default evaluation metric used with the objective 'binary:logistic' was changed from 'error' to 'logloss'. Explicitly set eval_metric if you'd like to restore the old behavior.\n",
      "[CV 3/3] END colsample_bytree=0.5666401865606814, gamma=0.4226191556898453, learning_rate=0.10793452976256486, max_depth=9, min_child_weight=1, n_estimators=929, subsample=0.8308980248526492;, score=(train=0.801, test=0.797) total time=10.1min\n",
      "[04:10:45] WARNING: /var/folders/sy/f16zz6x50xz3113nwtb9bvq00000gp/T/abs_44tbtwf8c1/croots/recipe/xgboost-split_1659548960882/work/src/learner.cc:1115: Starting in XGBoost 1.3.0, the default evaluation metric used with the objective 'binary:logistic' was changed from 'error' to 'logloss'. Explicitly set eval_metric if you'd like to restore the old behavior.\n",
      "[CV 1/3] END colsample_bytree=0.5990467320749091, gamma=0.30514164628774754, learning_rate=0.26355389431312815, max_depth=6, min_child_weight=5, n_estimators=1918, subsample=0.804781258158029;, score=(train=0.805, test=0.792) total time=10.5min\n",
      "[04:21:20] WARNING: /var/folders/sy/f16zz6x50xz3113nwtb9bvq00000gp/T/abs_44tbtwf8c1/croots/recipe/xgboost-split_1659548960882/work/src/learner.cc:1115: Starting in XGBoost 1.3.0, the default evaluation metric used with the objective 'binary:logistic' was changed from 'error' to 'logloss'. Explicitly set eval_metric if you'd like to restore the old behavior.\n",
      "[CV 3/3] END colsample_bytree=0.5990467320749091, gamma=0.30514164628774754, learning_rate=0.26355389431312815, max_depth=6, min_child_weight=5, n_estimators=1918, subsample=0.804781258158029;, score=(train=0.801, test=0.797) total time=11.3min\n"
     ]
    },
    {
     "name": "stderr",
     "output_type": "stream",
     "text": [
      "/Users/kshamajha/opt/anaconda3/envs/keras_env/lib/python3.7/site-packages/xgboost/sklearn.py:1224: UserWarning: The use of label encoder in XGBClassifier is deprecated and will be removed in a future release. To remove this warning, do the following: 1) Pass option use_label_encoder=False when constructing XGBClassifier object; and 2) Encode your labels (y) as integers starting with 0, i.e. 0, 1, 2, ..., [num_class - 1].\n",
      "  warnings.warn(label_encoder_deprecation_msg, UserWarning)\n",
      "/Users/kshamajha/opt/anaconda3/envs/keras_env/lib/python3.7/site-packages/xgboost/sklearn.py:1224: UserWarning: The use of label encoder in XGBClassifier is deprecated and will be removed in a future release. To remove this warning, do the following: 1) Pass option use_label_encoder=False when constructing XGBClassifier object; and 2) Encode your labels (y) as integers starting with 0, i.e. 0, 1, 2, ..., [num_class - 1].\n",
      "  warnings.warn(label_encoder_deprecation_msg, UserWarning)\n",
      "/Users/kshamajha/opt/anaconda3/envs/keras_env/lib/python3.7/site-packages/xgboost/sklearn.py:1224: UserWarning: The use of label encoder in XGBClassifier is deprecated and will be removed in a future release. To remove this warning, do the following: 1) Pass option use_label_encoder=False when constructing XGBClassifier object; and 2) Encode your labels (y) as integers starting with 0, i.e. 0, 1, 2, ..., [num_class - 1].\n",
      "  warnings.warn(label_encoder_deprecation_msg, UserWarning)\n",
      "/Users/kshamajha/opt/anaconda3/envs/keras_env/lib/python3.7/site-packages/xgboost/sklearn.py:1224: UserWarning: The use of label encoder in XGBClassifier is deprecated and will be removed in a future release. To remove this warning, do the following: 1) Pass option use_label_encoder=False when constructing XGBClassifier object; and 2) Encode your labels (y) as integers starting with 0, i.e. 0, 1, 2, ..., [num_class - 1].\n",
      "  warnings.warn(label_encoder_deprecation_msg, UserWarning)\n"
     ]
    },
    {
     "name": "stdout",
     "output_type": "stream",
     "text": [
      "CPU Execution time: 1346.2228120000004 seconds\n"
     ]
    }
   ],
   "source": [
    "from scipy import stats\n",
    "st = time.process_time()\n",
    "# A parameter grid for XGBoost\n",
    "params = {\n",
    "        'n_estimators' : stats.randint(150, 2000),\n",
    "        'learning_rate': stats.uniform(0.05, 0.5),\n",
    "        'min_child_weight': [1, 2, 3, 4, 5],\n",
    "        'gamma': stats.uniform(0.1, 0.9),\n",
    "        'subsample': stats.uniform(0.5, 1.0),\n",
    "        'colsample_bytree': stats.uniform(0.5, 0.9),\n",
    "        'max_depth': [3, 4, 5, 6, 7, 8, 9, 10]\n",
    "        }\n",
    "\n",
    "folds = 3\n",
    "param_comb = 25\n",
    "model_cv = RandomizedSearchCV(xgb_model, param_distributions=params, n_iter=param_comb, \n",
    "                              scoring='accuracy', n_jobs=-1, cv=folds, verbose=3, random_state=42, return_train_score=True)\n",
    "\n",
    "# Fit the model\n",
    "model_cv.fit(X_train_ns, y_train_ns)\n",
    "et = time.process_time()\n",
    "res = et - st\n",
    "print('CPU Execution time:', res, 'seconds')"
   ]
  },
  {
   "cell_type": "code",
   "execution_count": 36,
   "id": "54b94b1b",
   "metadata": {},
   "outputs": [
    {
     "name": "stdout",
     "output_type": "stream",
     "text": [
      "Best params for XGBoost are:{'colsample_bytree': 0.8748589530833296, 'gamma': 0.8949522330269815, 'learning_rate': 0.21217251050263697, 'max_depth': 9, 'min_child_weight': 4, 'n_estimators': 1646, 'subsample': 0.8180034749718639}\n"
     ]
    }
   ],
   "source": [
    "# Print the best params and accuracy score for them \n",
    "print('Best params for XGBoost are:' + str(model_cv.best_params_))"
   ]
  },
  {
   "cell_type": "code",
   "execution_count": 37,
   "id": "935c8cb4",
   "metadata": {},
   "outputs": [],
   "source": [
    "best_xgboost = model_cv.best_estimator_"
   ]
  },
  {
   "cell_type": "code",
   "execution_count": 38,
   "id": "fa512d2c",
   "metadata": {},
   "outputs": [],
   "source": [
    "y_pred6 = best_xgboost.predict(X_test)\n",
    "predictions = [round(value) for value in y_pred6]"
   ]
  },
  {
   "cell_type": "code",
   "execution_count": 39,
   "id": "76031a13",
   "metadata": {},
   "outputs": [
    {
     "name": "stdout",
     "output_type": "stream",
     "text": [
      "[[87005 23453]\n",
      " [ 4534 16262]]\n",
      "0.7867722126563762\n",
      "              precision    recall  f1-score   support\n",
      "\n",
      "           0       0.95      0.79      0.86    110458\n",
      "           1       0.41      0.78      0.54     20796\n",
      "\n",
      "    accuracy                           0.79    131254\n",
      "   macro avg       0.68      0.78      0.70    131254\n",
      "weighted avg       0.86      0.79      0.81    131254\n",
      "\n",
      "Accuracy: 78.68%\n"
     ]
    }
   ],
   "source": [
    "accuracy = accuracy_score(y_test, predictions)\n",
    "print(confusion_matrix(y_test,y_pred6))\n",
    "print(accuracy_score(y_test,y_pred6))\n",
    "print(classification_report(y_test,y_pred6))\n",
    "print(\"Accuracy: %.2f%%\" % (accuracy * 100.0))"
   ]
  },
  {
   "cell_type": "code",
   "execution_count": 40,
   "id": "36a91383",
   "metadata": {},
   "outputs": [
    {
     "data": {
      "text/markdown": [
       "------ "
      ],
      "text/plain": [
       "<IPython.core.display.Markdown object>"
      ]
     },
     "metadata": {},
     "output_type": "display_data"
    },
    {
     "data": {
      "text/markdown": [
       "### XGBoost Classification with HPT Model Metrics Summary : "
      ],
      "text/plain": [
       "<IPython.core.display.Markdown object>"
      ]
     },
     "metadata": {},
     "output_type": "display_data"
    },
    {
     "data": {
      "text/markdown": [
       "#### Confusion Matrix : "
      ],
      "text/plain": [
       "<IPython.core.display.Markdown object>"
      ]
     },
     "metadata": {},
     "output_type": "display_data"
    },
    {
     "data": {
      "text/plain": [
       "array([[87005, 23453],\n",
       "       [ 4534, 16262]])"
      ]
     },
     "metadata": {},
     "output_type": "display_data"
    },
    {
     "data": {
      "text/html": [
       "<div>\n",
       "<style scoped>\n",
       "    .dataframe tbody tr th:only-of-type {\n",
       "        vertical-align: middle;\n",
       "    }\n",
       "\n",
       "    .dataframe tbody tr th {\n",
       "        vertical-align: top;\n",
       "    }\n",
       "\n",
       "    .dataframe thead th {\n",
       "        text-align: right;\n",
       "    }\n",
       "</style>\n",
       "<table border=\"1\" class=\"dataframe\">\n",
       "  <thead>\n",
       "    <tr style=\"text-align: right;\">\n",
       "      <th></th>\n",
       "      <th>Model Name</th>\n",
       "      <th>Accuracy</th>\n",
       "      <th>Precision</th>\n",
       "      <th>Recall</th>\n",
       "      <th>AUC</th>\n",
       "      <th>F1</th>\n",
       "      <th>Brier Loss</th>\n",
       "    </tr>\n",
       "  </thead>\n",
       "  <tbody>\n",
       "    <tr>\n",
       "      <th>0</th>\n",
       "      <td>XGBoost Classification with HPT</td>\n",
       "      <td>0.79</td>\n",
       "      <td>0.41</td>\n",
       "      <td>0.78</td>\n",
       "      <td>0.78</td>\n",
       "      <td>0.54</td>\n",
       "      <td>0.2132</td>\n",
       "    </tr>\n",
       "  </tbody>\n",
       "</table>\n",
       "</div>"
      ],
      "text/plain": [
       "                        Model Name  Accuracy  Precision  Recall   AUC    F1  \\\n",
       "0  XGBoost Classification with HPT      0.79       0.41    0.78  0.78  0.54   \n",
       "\n",
       "   Brier Loss  \n",
       "0      0.2132  "
      ]
     },
     "execution_count": 40,
     "metadata": {},
     "output_type": "execute_result"
    }
   ],
   "source": [
    "# Print the model metrics\n",
    "get_model_metrics(y_test, y_pred6 ,'XGBoost Classification with HPT')"
   ]
  },
  {
   "cell_type": "code",
   "execution_count": 41,
   "id": "e6de4253",
   "metadata": {},
   "outputs": [
    {
     "data": {
      "text/html": [
       "<div>\n",
       "<style scoped>\n",
       "    .dataframe tbody tr th:only-of-type {\n",
       "        vertical-align: middle;\n",
       "    }\n",
       "\n",
       "    .dataframe tbody tr th {\n",
       "        vertical-align: top;\n",
       "    }\n",
       "\n",
       "    .dataframe thead th {\n",
       "        text-align: right;\n",
       "    }\n",
       "</style>\n",
       "<table border=\"1\" class=\"dataframe\">\n",
       "  <thead>\n",
       "    <tr style=\"text-align: right;\">\n",
       "      <th></th>\n",
       "      <th>Model Name</th>\n",
       "      <th>Accuracy</th>\n",
       "      <th>Precision</th>\n",
       "      <th>Recall</th>\n",
       "      <th>AUC</th>\n",
       "      <th>F1</th>\n",
       "      <th>Brier Loss</th>\n",
       "    </tr>\n",
       "  </thead>\n",
       "  <tbody>\n",
       "    <tr>\n",
       "      <th>0</th>\n",
       "      <td>Logistic Regression with unbalanced data</td>\n",
       "      <td>0.85</td>\n",
       "      <td>0.54</td>\n",
       "      <td>0.17</td>\n",
       "      <td>0.57</td>\n",
       "      <td>0.25</td>\n",
       "      <td>0.1547</td>\n",
       "    </tr>\n",
       "    <tr>\n",
       "      <th>1</th>\n",
       "      <td>Logistic Regression</td>\n",
       "      <td>0.79</td>\n",
       "      <td>0.42</td>\n",
       "      <td>0.77</td>\n",
       "      <td>0.78</td>\n",
       "      <td>0.54</td>\n",
       "      <td>0.2067</td>\n",
       "    </tr>\n",
       "    <tr>\n",
       "      <th>2</th>\n",
       "      <td>Random Forest</td>\n",
       "      <td>0.79</td>\n",
       "      <td>0.41</td>\n",
       "      <td>0.78</td>\n",
       "      <td>0.79</td>\n",
       "      <td>0.54</td>\n",
       "      <td>0.2128</td>\n",
       "    </tr>\n",
       "    <tr>\n",
       "      <th>3</th>\n",
       "      <td>Random Forest with HPT</td>\n",
       "      <td>0.79</td>\n",
       "      <td>0.41</td>\n",
       "      <td>0.78</td>\n",
       "      <td>0.79</td>\n",
       "      <td>0.54</td>\n",
       "      <td>0.2127</td>\n",
       "    </tr>\n",
       "    <tr>\n",
       "      <th>4</th>\n",
       "      <td>XGBoost Classification</td>\n",
       "      <td>0.79</td>\n",
       "      <td>0.41</td>\n",
       "      <td>0.78</td>\n",
       "      <td>0.79</td>\n",
       "      <td>0.54</td>\n",
       "      <td>0.2123</td>\n",
       "    </tr>\n",
       "    <tr>\n",
       "      <th>5</th>\n",
       "      <td>XGBoost Classification with HPT</td>\n",
       "      <td>0.79</td>\n",
       "      <td>0.41</td>\n",
       "      <td>0.78</td>\n",
       "      <td>0.78</td>\n",
       "      <td>0.54</td>\n",
       "      <td>0.2132</td>\n",
       "    </tr>\n",
       "  </tbody>\n",
       "</table>\n",
       "</div>"
      ],
      "text/plain": [
       "                                 Model Name  Accuracy  Precision  Recall  \\\n",
       "0  Logistic Regression with unbalanced data      0.85       0.54    0.17   \n",
       "1                       Logistic Regression      0.79       0.42    0.77   \n",
       "2                             Random Forest      0.79       0.41    0.78   \n",
       "3                    Random Forest with HPT      0.79       0.41    0.78   \n",
       "4                    XGBoost Classification      0.79       0.41    0.78   \n",
       "5           XGBoost Classification with HPT      0.79       0.41    0.78   \n",
       "\n",
       "    AUC    F1  Brier Loss  \n",
       "0  0.57  0.25      0.1547  \n",
       "1  0.78  0.54      0.2067  \n",
       "2  0.79  0.54      0.2128  \n",
       "3  0.79  0.54      0.2127  \n",
       "4  0.79  0.54      0.2123  \n",
       "5  0.78  0.54      0.2132  "
      ]
     },
     "execution_count": 41,
     "metadata": {},
     "output_type": "execute_result"
    }
   ],
   "source": [
    "model_results.head(10)"
   ]
  },
  {
   "cell_type": "markdown",
   "id": "765ec3b9",
   "metadata": {},
   "source": [
    "### Training the model\n",
    "## Bernoulli Naive Bayes"
   ]
  },
  {
   "cell_type": "code",
   "execution_count": 42,
   "id": "b0444f35",
   "metadata": {},
   "outputs": [],
   "source": [
    "from sklearn.naive_bayes import BernoulliNB"
   ]
  },
  {
   "cell_type": "code",
   "execution_count": 43,
   "id": "13b28256",
   "metadata": {},
   "outputs": [
    {
     "name": "stdout",
     "output_type": "stream",
     "text": [
      "CPU Execution time: 0.06750000000010914 seconds\n"
     ]
    }
   ],
   "source": [
    "st = time.process_time()\n",
    "# instantiate bernoulli NB object\n",
    "bnb = BernoulliNB()\n",
    "# fit\n",
    "bnb.fit(X_train_ns,y_train_ns)\n",
    "et = time.process_time()\n",
    "res = et - st\n",
    "print('CPU Execution time:', res, 'seconds')"
   ]
  },
  {
   "cell_type": "code",
   "execution_count": 44,
   "id": "7b34c9d8",
   "metadata": {},
   "outputs": [],
   "source": [
    "# predict class\n",
    "y_pred7 = bnb.predict(X_test)\n",
    "predictions = [round(value) for value in y_pred7]"
   ]
  },
  {
   "cell_type": "code",
   "execution_count": 45,
   "id": "8ee77d10",
   "metadata": {},
   "outputs": [],
   "source": [
    "# predict probability\n",
    "y_pred_proba =bnb.predict_proba(X_test)"
   ]
  },
  {
   "cell_type": "code",
   "execution_count": 46,
   "id": "4e9db75f",
   "metadata": {},
   "outputs": [
    {
     "name": "stdout",
     "output_type": "stream",
     "text": [
      "[[82964 27494]\n",
      " [ 3780 17016]]\n",
      "0.7617291663492161\n",
      "              precision    recall  f1-score   support\n",
      "\n",
      "           0       0.96      0.75      0.84    110458\n",
      "           1       0.38      0.82      0.52     20796\n",
      "\n",
      "    accuracy                           0.76    131254\n",
      "   macro avg       0.67      0.78      0.68    131254\n",
      "weighted avg       0.87      0.76      0.79    131254\n",
      "\n",
      "Accuracy: 76.17%\n"
     ]
    }
   ],
   "source": [
    "accuracy = accuracy_score(y_test, predictions)\n",
    "print(confusion_matrix(y_test,y_pred7))\n",
    "print(accuracy_score(y_test,y_pred7))\n",
    "print(classification_report(y_test,y_pred7))\n",
    "print(\"Accuracy: %.2f%%\" % (accuracy * 100.0))"
   ]
  },
  {
   "cell_type": "code",
   "execution_count": 47,
   "id": "1b9b1a56",
   "metadata": {},
   "outputs": [
    {
     "data": {
      "text/markdown": [
       "------ "
      ],
      "text/plain": [
       "<IPython.core.display.Markdown object>"
      ]
     },
     "metadata": {},
     "output_type": "display_data"
    },
    {
     "data": {
      "text/markdown": [
       "### Bernoulli Naive Bayes Model Metrics Summary : "
      ],
      "text/plain": [
       "<IPython.core.display.Markdown object>"
      ]
     },
     "metadata": {},
     "output_type": "display_data"
    },
    {
     "data": {
      "text/markdown": [
       "#### Confusion Matrix : "
      ],
      "text/plain": [
       "<IPython.core.display.Markdown object>"
      ]
     },
     "metadata": {},
     "output_type": "display_data"
    },
    {
     "data": {
      "text/plain": [
       "array([[82964, 27494],\n",
       "       [ 3780, 17016]])"
      ]
     },
     "metadata": {},
     "output_type": "display_data"
    },
    {
     "data": {
      "text/html": [
       "<div>\n",
       "<style scoped>\n",
       "    .dataframe tbody tr th:only-of-type {\n",
       "        vertical-align: middle;\n",
       "    }\n",
       "\n",
       "    .dataframe tbody tr th {\n",
       "        vertical-align: top;\n",
       "    }\n",
       "\n",
       "    .dataframe thead th {\n",
       "        text-align: right;\n",
       "    }\n",
       "</style>\n",
       "<table border=\"1\" class=\"dataframe\">\n",
       "  <thead>\n",
       "    <tr style=\"text-align: right;\">\n",
       "      <th></th>\n",
       "      <th>Model Name</th>\n",
       "      <th>Accuracy</th>\n",
       "      <th>Precision</th>\n",
       "      <th>Recall</th>\n",
       "      <th>AUC</th>\n",
       "      <th>F1</th>\n",
       "      <th>Brier Loss</th>\n",
       "    </tr>\n",
       "  </thead>\n",
       "  <tbody>\n",
       "    <tr>\n",
       "      <th>0</th>\n",
       "      <td>Bernoulli Naive Bayes</td>\n",
       "      <td>0.76</td>\n",
       "      <td>0.38</td>\n",
       "      <td>0.82</td>\n",
       "      <td>0.78</td>\n",
       "      <td>0.52</td>\n",
       "      <td>0.2383</td>\n",
       "    </tr>\n",
       "  </tbody>\n",
       "</table>\n",
       "</div>"
      ],
      "text/plain": [
       "              Model Name  Accuracy  Precision  Recall   AUC    F1  Brier Loss\n",
       "0  Bernoulli Naive Bayes      0.76       0.38    0.82  0.78  0.52      0.2383"
      ]
     },
     "execution_count": 47,
     "metadata": {},
     "output_type": "execute_result"
    }
   ],
   "source": [
    "# Print the model metrics\n",
    "get_model_metrics(y_test, y_pred7 ,'Bernoulli Naive Bayes')"
   ]
  },
  {
   "cell_type": "markdown",
   "id": "e831be3e",
   "metadata": {},
   "source": [
    "### Training the model\n",
    "## Multinomial Naive Bayes"
   ]
  },
  {
   "cell_type": "code",
   "execution_count": 48,
   "id": "3d477d32",
   "metadata": {},
   "outputs": [
    {
     "name": "stdout",
     "output_type": "stream",
     "text": [
      "CPU Execution time: 0.04210799999964365 seconds\n"
     ]
    }
   ],
   "source": [
    "from sklearn.naive_bayes import MultinomialNB\n",
    "st = time.process_time()\n",
    "mnb = MultinomialNB()\n",
    "\n",
    "# fit\n",
    "mnb.fit(X_train_ns,y_train_ns)\n",
    "et = time.process_time()\n",
    "res = et - st\n",
    "print('CPU Execution time:', res, 'seconds')\n",
    "\n",
    "# predict class\n",
    "y_pred8 = mnb.predict(X_test)\n",
    "\n",
    "# predict probabilities\n",
    "y_pred_proba = mnb.predict_proba(X_test)"
   ]
  },
  {
   "cell_type": "code",
   "execution_count": 49,
   "id": "128b2f52",
   "metadata": {},
   "outputs": [],
   "source": [
    "predictions = [round(value) for value in y_pred8]"
   ]
  },
  {
   "cell_type": "code",
   "execution_count": 50,
   "id": "89ba464d",
   "metadata": {},
   "outputs": [
    {
     "name": "stdout",
     "output_type": "stream",
     "text": [
      "[[94560 15898]\n",
      " [12067  8729]]\n",
      "0.7869398265957609\n",
      "              precision    recall  f1-score   support\n",
      "\n",
      "           0       0.89      0.86      0.87    110458\n",
      "           1       0.35      0.42      0.38     20796\n",
      "\n",
      "    accuracy                           0.79    131254\n",
      "   macro avg       0.62      0.64      0.63    131254\n",
      "weighted avg       0.80      0.79      0.79    131254\n",
      "\n",
      "Accuracy: 78.69%\n"
     ]
    }
   ],
   "source": [
    "accuracy = accuracy_score(y_test, predictions)\n",
    "print(confusion_matrix(y_test,y_pred8))\n",
    "print(accuracy_score(y_test,y_pred8))\n",
    "print(classification_report(y_test,y_pred8))\n",
    "print(\"Accuracy: %.2f%%\" % (accuracy * 100.0))"
   ]
  },
  {
   "cell_type": "code",
   "execution_count": 51,
   "id": "b9438d2e",
   "metadata": {},
   "outputs": [
    {
     "data": {
      "text/markdown": [
       "------ "
      ],
      "text/plain": [
       "<IPython.core.display.Markdown object>"
      ]
     },
     "metadata": {},
     "output_type": "display_data"
    },
    {
     "data": {
      "text/markdown": [
       "### Multinomial Naive Bayes Model Metrics Summary : "
      ],
      "text/plain": [
       "<IPython.core.display.Markdown object>"
      ]
     },
     "metadata": {},
     "output_type": "display_data"
    },
    {
     "data": {
      "text/markdown": [
       "#### Confusion Matrix : "
      ],
      "text/plain": [
       "<IPython.core.display.Markdown object>"
      ]
     },
     "metadata": {},
     "output_type": "display_data"
    },
    {
     "data": {
      "text/plain": [
       "array([[94560, 15898],\n",
       "       [12067,  8729]])"
      ]
     },
     "metadata": {},
     "output_type": "display_data"
    },
    {
     "data": {
      "text/html": [
       "<div>\n",
       "<style scoped>\n",
       "    .dataframe tbody tr th:only-of-type {\n",
       "        vertical-align: middle;\n",
       "    }\n",
       "\n",
       "    .dataframe tbody tr th {\n",
       "        vertical-align: top;\n",
       "    }\n",
       "\n",
       "    .dataframe thead th {\n",
       "        text-align: right;\n",
       "    }\n",
       "</style>\n",
       "<table border=\"1\" class=\"dataframe\">\n",
       "  <thead>\n",
       "    <tr style=\"text-align: right;\">\n",
       "      <th></th>\n",
       "      <th>Model Name</th>\n",
       "      <th>Accuracy</th>\n",
       "      <th>Precision</th>\n",
       "      <th>Recall</th>\n",
       "      <th>AUC</th>\n",
       "      <th>F1</th>\n",
       "      <th>Brier Loss</th>\n",
       "    </tr>\n",
       "  </thead>\n",
       "  <tbody>\n",
       "    <tr>\n",
       "      <th>0</th>\n",
       "      <td>Multinomial Naive Bayes</td>\n",
       "      <td>0.79</td>\n",
       "      <td>0.35</td>\n",
       "      <td>0.42</td>\n",
       "      <td>0.64</td>\n",
       "      <td>0.38</td>\n",
       "      <td>0.2131</td>\n",
       "    </tr>\n",
       "  </tbody>\n",
       "</table>\n",
       "</div>"
      ],
      "text/plain": [
       "                Model Name  Accuracy  Precision  Recall   AUC    F1  \\\n",
       "0  Multinomial Naive Bayes      0.79       0.35    0.42  0.64  0.38   \n",
       "\n",
       "   Brier Loss  \n",
       "0      0.2131  "
      ]
     },
     "execution_count": 51,
     "metadata": {},
     "output_type": "execute_result"
    }
   ],
   "source": [
    "# Print the model metrics\n",
    "get_model_metrics(y_test, y_pred8 ,'Multinomial Naive Bayes')"
   ]
  },
  {
   "cell_type": "markdown",
   "id": "4c7c0957",
   "metadata": {},
   "source": [
    "### Training the model\n",
    "## Support Vector Classifier"
   ]
  },
  {
   "cell_type": "code",
   "execution_count": 52,
   "id": "cc7b1716",
   "metadata": {},
   "outputs": [],
   "source": [
    "from sklearn import svm"
   ]
  },
  {
   "cell_type": "code",
   "execution_count": 53,
   "id": "3089eba5",
   "metadata": {},
   "outputs": [
    {
     "name": "stdout",
     "output_type": "stream",
     "text": [
      "[03:47:30] WARNING: /var/folders/sy/f16zz6x50xz3113nwtb9bvq00000gp/T/abs_44tbtwf8c1/croots/recipe/xgboost-split_1659548960882/work/src/learner.cc:1115: Starting in XGBoost 1.3.0, the default evaluation metric used with the objective 'binary:logistic' was changed from 'error' to 'logloss'. Explicitly set eval_metric if you'd like to restore the old behavior.\n",
      "[CV 1/3] END colsample_bytree=0.5899774242362026, gamma=0.5133240027692805, learning_rate=0.2168543055695109, max_depth=10, min_child_weight=3, n_estimators=1835, subsample=0.5564115790271003;, score=(train=0.805, test=0.792) total time=20.3min\n",
      "[04:08:02] WARNING: /var/folders/sy/f16zz6x50xz3113nwtb9bvq00000gp/T/abs_44tbtwf8c1/croots/recipe/xgboost-split_1659548960882/work/src/learner.cc:1115: Starting in XGBoost 1.3.0, the default evaluation metric used with the objective 'binary:logistic' was changed from 'error' to 'logloss'. Explicitly set eval_metric if you'd like to restore the old behavior.\n",
      "[CV 1/3] END colsample_bytree=0.5282862671180608, gamma=0.6727693701374023, learning_rate=0.20717799053816333, max_depth=10, min_child_weight=4, n_estimators=1907, subsample=0.6393314544058757;, score=(train=0.805, test=0.792) total time=19.9min\n",
      "[CV 1/3] END colsample_bytree=1.3486187335212674, gamma=0.3908826388186797, learning_rate=0.30939531087168304, max_depth=3, min_child_weight=4, n_estimators=1286, subsample=0.5648922471089816;, score=(train=nan, test=nan) total time=   0.1s\n",
      "[CV 2/3] END colsample_bytree=1.3486187335212674, gamma=0.3908826388186797, learning_rate=0.30939531087168304, max_depth=3, min_child_weight=4, n_estimators=1286, subsample=0.5648922471089816;, score=(train=nan, test=nan) total time=   0.1s\n",
      "[CV 3/3] END colsample_bytree=1.3486187335212674, gamma=0.3908826388186797, learning_rate=0.30939531087168304, max_depth=3, min_child_weight=4, n_estimators=1286, subsample=0.5648922471089816;, score=(train=nan, test=nan) total time=   0.1s\n",
      "[04:28:09] WARNING: /var/folders/sy/f16zz6x50xz3113nwtb9bvq00000gp/T/abs_44tbtwf8c1/croots/recipe/xgboost-split_1659548960882/work/src/learner.cc:1115: Starting in XGBoost 1.3.0, the default evaluation metric used with the objective 'binary:logistic' was changed from 'error' to 'logloss'. Explicitly set eval_metric if you'd like to restore the old behavior.\n",
      "[CV 1/3] END colsample_bytree=0.7285238725409102, gamma=0.3221884565547411, learning_rate=0.39815213641989416, max_depth=5, min_child_weight=1, n_estimators=1786, subsample=0.7848404943774676;, score=(train=0.805, test=0.792) total time= 6.6min\n"
     ]
    },
    {
     "name": "stderr",
     "output_type": "stream",
     "text": [
      "/Users/kshamajha/opt/anaconda3/envs/keras_env/lib/python3.7/site-packages/xgboost/sklearn.py:1224: UserWarning: The use of label encoder in XGBClassifier is deprecated and will be removed in a future release. To remove this warning, do the following: 1) Pass option use_label_encoder=False when constructing XGBClassifier object; and 2) Encode your labels (y) as integers starting with 0, i.e. 0, 1, 2, ..., [num_class - 1].\n",
      "  warnings.warn(label_encoder_deprecation_msg, UserWarning)\n",
      "/Users/kshamajha/opt/anaconda3/envs/keras_env/lib/python3.7/site-packages/xgboost/sklearn.py:1224: UserWarning: The use of label encoder in XGBClassifier is deprecated and will be removed in a future release. To remove this warning, do the following: 1) Pass option use_label_encoder=False when constructing XGBClassifier object; and 2) Encode your labels (y) as integers starting with 0, i.e. 0, 1, 2, ..., [num_class - 1].\n",
      "  warnings.warn(label_encoder_deprecation_msg, UserWarning)\n",
      "/Users/kshamajha/opt/anaconda3/envs/keras_env/lib/python3.7/site-packages/xgboost/sklearn.py:1224: UserWarning: The use of label encoder in XGBClassifier is deprecated and will be removed in a future release. To remove this warning, do the following: 1) Pass option use_label_encoder=False when constructing XGBClassifier object; and 2) Encode your labels (y) as integers starting with 0, i.e. 0, 1, 2, ..., [num_class - 1].\n",
      "  warnings.warn(label_encoder_deprecation_msg, UserWarning)\n",
      "/Users/kshamajha/opt/anaconda3/envs/keras_env/lib/python3.7/site-packages/xgboost/sklearn.py:1224: UserWarning: The use of label encoder in XGBClassifier is deprecated and will be removed in a future release. To remove this warning, do the following: 1) Pass option use_label_encoder=False when constructing XGBClassifier object; and 2) Encode your labels (y) as integers starting with 0, i.e. 0, 1, 2, ..., [num_class - 1].\n",
      "  warnings.warn(label_encoder_deprecation_msg, UserWarning)\n",
      "/Users/kshamajha/opt/anaconda3/envs/keras_env/lib/python3.7/site-packages/xgboost/sklearn.py:1224: UserWarning: The use of label encoder in XGBClassifier is deprecated and will be removed in a future release. To remove this warning, do the following: 1) Pass option use_label_encoder=False when constructing XGBClassifier object; and 2) Encode your labels (y) as integers starting with 0, i.e. 0, 1, 2, ..., [num_class - 1].\n",
      "  warnings.warn(label_encoder_deprecation_msg, UserWarning)\n",
      "/Users/kshamajha/opt/anaconda3/envs/keras_env/lib/python3.7/site-packages/xgboost/sklearn.py:1224: UserWarning: The use of label encoder in XGBClassifier is deprecated and will be removed in a future release. To remove this warning, do the following: 1) Pass option use_label_encoder=False when constructing XGBClassifier object; and 2) Encode your labels (y) as integers starting with 0, i.e. 0, 1, 2, ..., [num_class - 1].\n",
      "  warnings.warn(label_encoder_deprecation_msg, UserWarning)\n"
     ]
    },
    {
     "name": "stdout",
     "output_type": "stream",
     "text": [
      "[03:47:30] WARNING: /var/folders/sy/f16zz6x50xz3113nwtb9bvq00000gp/T/abs_44tbtwf8c1/croots/recipe/xgboost-split_1659548960882/work/src/learner.cc:1115: Starting in XGBoost 1.3.0, the default evaluation metric used with the objective 'binary:logistic' was changed from 'error' to 'logloss'. Explicitly set eval_metric if you'd like to restore the old behavior.\n",
      "[CV 3/3] END colsample_bytree=0.8370861069626263, gamma=0.9556428757689246, learning_rate=0.41599697090570253, max_depth=7, min_child_weight=5, n_estimators=1788, subsample=0.9458327528535911;, score=(train=0.801, test=0.797) total time=13.5min\n",
      "[CV 1/3] END colsample_bytree=0.5572025152574213, gamma=0.379884089544096, learning_rate=0.2125916610133735, max_depth=5, min_child_weight=4, n_estimators=875, subsample=1.3872127425763265;, score=(train=nan, test=nan) total time=   0.1s\n",
      "[CV 2/3] END colsample_bytree=0.5572025152574213, gamma=0.379884089544096, learning_rate=0.2125916610133735, max_depth=5, min_child_weight=4, n_estimators=875, subsample=1.3872127425763265;, score=(train=nan, test=nan) total time=   0.2s\n",
      "[CV 3/3] END colsample_bytree=0.5572025152574213, gamma=0.379884089544096, learning_rate=0.2125916610133735, max_depth=5, min_child_weight=4, n_estimators=875, subsample=1.3872127425763265;, score=(train=nan, test=nan) total time=   0.1s\n",
      "[04:01:03] WARNING: /var/folders/sy/f16zz6x50xz3113nwtb9bvq00000gp/T/abs_44tbtwf8c1/croots/recipe/xgboost-split_1659548960882/work/src/learner.cc:1115: Starting in XGBoost 1.3.0, the default evaluation metric used with the objective 'binary:logistic' was changed from 'error' to 'logloss'. Explicitly set eval_metric if you'd like to restore the old behavior.\n",
      "[CV 1/3] END colsample_bytree=0.9249934326457544, gamma=0.20763482134447153, learning_rate=0.4066223936114975, max_depth=3, min_child_weight=5, n_estimators=1391, subsample=0.7359849197489557;, score=(train=0.802, test=0.792) total time= 4.3min\n",
      "[04:05:22] WARNING: /var/folders/sy/f16zz6x50xz3113nwtb9bvq00000gp/T/abs_44tbtwf8c1/croots/recipe/xgboost-split_1659548960882/work/src/learner.cc:1115: Starting in XGBoost 1.3.0, the default evaluation metric used with the objective 'binary:logistic' was changed from 'error' to 'logloss'. Explicitly set eval_metric if you'd like to restore the old behavior.\n",
      "[CV 1/3] END colsample_bytree=0.7304614904851916, gamma=0.1363902305845882, learning_rate=0.4053314448428937, max_depth=4, min_child_weight=2, n_estimators=1041, subsample=0.6078914269933045;, score=(train=0.804, test=0.792) total time= 5.0min\n",
      "[04:10:27] WARNING: /var/folders/sy/f16zz6x50xz3113nwtb9bvq00000gp/T/abs_44tbtwf8c1/croots/recipe/xgboost-split_1659548960882/work/src/learner.cc:1115: Starting in XGBoost 1.3.0, the default evaluation metric used with the objective 'binary:logistic' was changed from 'error' to 'logloss'. Explicitly set eval_metric if you'd like to restore the old behavior.\n",
      "[CV 2/3] END colsample_bytree=0.8748589530833296, gamma=0.8949522330269815, learning_rate=0.21217251050263697, max_depth=9, min_child_weight=4, n_estimators=1646, subsample=0.8180034749718639;, score=(train=0.801, test=0.799) total time=18.3min\n",
      "[04:29:00] WARNING: /var/folders/sy/f16zz6x50xz3113nwtb9bvq00000gp/T/abs_44tbtwf8c1/croots/recipe/xgboost-split_1659548960882/work/src/learner.cc:1115: Starting in XGBoost 1.3.0, the default evaluation metric used with the objective 'binary:logistic' was changed from 'error' to 'logloss'. Explicitly set eval_metric if you'd like to restore the old behavior.\n",
      "[CV 2/3] END colsample_bytree=0.7285238725409102, gamma=0.3221884565547411, learning_rate=0.39815213641989416, max_depth=5, min_child_weight=1, n_estimators=1786, subsample=0.7848404943774676;, score=(train=0.801, test=0.798) total time= 6.1min\n"
     ]
    },
    {
     "name": "stderr",
     "output_type": "stream",
     "text": [
      "/Users/kshamajha/opt/anaconda3/envs/keras_env/lib/python3.7/site-packages/xgboost/sklearn.py:1224: UserWarning: The use of label encoder in XGBClassifier is deprecated and will be removed in a future release. To remove this warning, do the following: 1) Pass option use_label_encoder=False when constructing XGBClassifier object; and 2) Encode your labels (y) as integers starting with 0, i.e. 0, 1, 2, ..., [num_class - 1].\n",
      "  warnings.warn(label_encoder_deprecation_msg, UserWarning)\n",
      "/Users/kshamajha/opt/anaconda3/envs/keras_env/lib/python3.7/site-packages/xgboost/sklearn.py:1224: UserWarning: The use of label encoder in XGBClassifier is deprecated and will be removed in a future release. To remove this warning, do the following: 1) Pass option use_label_encoder=False when constructing XGBClassifier object; and 2) Encode your labels (y) as integers starting with 0, i.e. 0, 1, 2, ..., [num_class - 1].\n",
      "  warnings.warn(label_encoder_deprecation_msg, UserWarning)\n",
      "/Users/kshamajha/opt/anaconda3/envs/keras_env/lib/python3.7/site-packages/xgboost/sklearn.py:1224: UserWarning: The use of label encoder in XGBClassifier is deprecated and will be removed in a future release. To remove this warning, do the following: 1) Pass option use_label_encoder=False when constructing XGBClassifier object; and 2) Encode your labels (y) as integers starting with 0, i.e. 0, 1, 2, ..., [num_class - 1].\n",
      "  warnings.warn(label_encoder_deprecation_msg, UserWarning)\n",
      "/Users/kshamajha/opt/anaconda3/envs/keras_env/lib/python3.7/site-packages/xgboost/sklearn.py:1224: UserWarning: The use of label encoder in XGBClassifier is deprecated and will be removed in a future release. To remove this warning, do the following: 1) Pass option use_label_encoder=False when constructing XGBClassifier object; and 2) Encode your labels (y) as integers starting with 0, i.e. 0, 1, 2, ..., [num_class - 1].\n",
      "  warnings.warn(label_encoder_deprecation_msg, UserWarning)\n",
      "/Users/kshamajha/opt/anaconda3/envs/keras_env/lib/python3.7/site-packages/xgboost/sklearn.py:1224: UserWarning: The use of label encoder in XGBClassifier is deprecated and will be removed in a future release. To remove this warning, do the following: 1) Pass option use_label_encoder=False when constructing XGBClassifier object; and 2) Encode your labels (y) as integers starting with 0, i.e. 0, 1, 2, ..., [num_class - 1].\n",
      "  warnings.warn(label_encoder_deprecation_msg, UserWarning)\n",
      "/Users/kshamajha/opt/anaconda3/envs/keras_env/lib/python3.7/site-packages/xgboost/sklearn.py:1224: UserWarning: The use of label encoder in XGBClassifier is deprecated and will be removed in a future release. To remove this warning, do the following: 1) Pass option use_label_encoder=False when constructing XGBClassifier object; and 2) Encode your labels (y) as integers starting with 0, i.e. 0, 1, 2, ..., [num_class - 1].\n",
      "  warnings.warn(label_encoder_deprecation_msg, UserWarning)\n",
      "/Users/kshamajha/opt/anaconda3/envs/keras_env/lib/python3.7/site-packages/xgboost/sklearn.py:1224: UserWarning: The use of label encoder in XGBClassifier is deprecated and will be removed in a future release. To remove this warning, do the following: 1) Pass option use_label_encoder=False when constructing XGBClassifier object; and 2) Encode your labels (y) as integers starting with 0, i.e. 0, 1, 2, ..., [num_class - 1].\n",
      "  warnings.warn(label_encoder_deprecation_msg, UserWarning)\n",
      "/Users/kshamajha/opt/anaconda3/envs/keras_env/lib/python3.7/site-packages/xgboost/sklearn.py:1224: UserWarning: The use of label encoder in XGBClassifier is deprecated and will be removed in a future release. To remove this warning, do the following: 1) Pass option use_label_encoder=False when constructing XGBClassifier object; and 2) Encode your labels (y) as integers starting with 0, i.e. 0, 1, 2, ..., [num_class - 1].\n",
      "  warnings.warn(label_encoder_deprecation_msg, UserWarning)\n"
     ]
    },
    {
     "name": "stdout",
     "output_type": "stream",
     "text": [
      "[03:47:30] WARNING: /var/folders/sy/f16zz6x50xz3113nwtb9bvq00000gp/T/abs_44tbtwf8c1/croots/recipe/xgboost-split_1659548960882/work/src/learner.cc:1115: Starting in XGBoost 1.3.0, the default evaluation metric used with the objective 'binary:logistic' was changed from 'error' to 'logloss'. Explicitly set eval_metric if you'd like to restore the old behavior.\n",
      "[CV 2/3] END colsample_bytree=0.8370861069626263, gamma=0.9556428757689246, learning_rate=0.41599697090570253, max_depth=7, min_child_weight=5, n_estimators=1788, subsample=0.9458327528535911;, score=(train=0.801, test=0.798) total time=13.6min\n",
      "[04:01:08] WARNING: /var/folders/sy/f16zz6x50xz3113nwtb9bvq00000gp/T/abs_44tbtwf8c1/croots/recipe/xgboost-split_1659548960882/work/src/learner.cc:1115: Starting in XGBoost 1.3.0, the default evaluation metric used with the objective 'binary:logistic' was changed from 'error' to 'logloss'. Explicitly set eval_metric if you'd like to restore the old behavior.\n",
      "[CV 2/3] END colsample_bytree=0.9249934326457544, gamma=0.20763482134447153, learning_rate=0.4066223936114975, max_depth=3, min_child_weight=5, n_estimators=1391, subsample=0.7359849197489557;, score=(train=0.798, test=0.796) total time= 4.3min\n",
      "[04:05:30] WARNING: /var/folders/sy/f16zz6x50xz3113nwtb9bvq00000gp/T/abs_44tbtwf8c1/croots/recipe/xgboost-split_1659548960882/work/src/learner.cc:1115: Starting in XGBoost 1.3.0, the default evaluation metric used with the objective 'binary:logistic' was changed from 'error' to 'logloss'. Explicitly set eval_metric if you'd like to restore the old behavior.\n",
      "[CV 2/3] END colsample_bytree=0.7304614904851916, gamma=0.1363902305845882, learning_rate=0.4053314448428937, max_depth=4, min_child_weight=2, n_estimators=1041, subsample=0.6078914269933045;, score=(train=0.800, test=0.797) total time= 5.1min\n",
      "[04:10:36] WARNING: /var/folders/sy/f16zz6x50xz3113nwtb9bvq00000gp/T/abs_44tbtwf8c1/croots/recipe/xgboost-split_1659548960882/work/src/learner.cc:1115: Starting in XGBoost 1.3.0, the default evaluation metric used with the objective 'binary:logistic' was changed from 'error' to 'logloss'. Explicitly set eval_metric if you'd like to restore the old behavior.\n",
      "[CV 3/3] END colsample_bytree=0.8748589530833296, gamma=0.8949522330269815, learning_rate=0.21217251050263697, max_depth=9, min_child_weight=4, n_estimators=1646, subsample=0.8180034749718639;, score=(train=0.801, test=0.797) total time=18.3min\n",
      "[04:29:06] WARNING: /var/folders/sy/f16zz6x50xz3113nwtb9bvq00000gp/T/abs_44tbtwf8c1/croots/recipe/xgboost-split_1659548960882/work/src/learner.cc:1115: Starting in XGBoost 1.3.0, the default evaluation metric used with the objective 'binary:logistic' was changed from 'error' to 'logloss'. Explicitly set eval_metric if you'd like to restore the old behavior.\n",
      "[CV 3/3] END colsample_bytree=0.7285238725409102, gamma=0.3221884565547411, learning_rate=0.39815213641989416, max_depth=5, min_child_weight=1, n_estimators=1786, subsample=0.7848404943774676;, score=(train=0.801, test=0.797) total time= 6.0min\n"
     ]
    },
    {
     "name": "stderr",
     "output_type": "stream",
     "text": [
      "/Users/kshamajha/opt/anaconda3/envs/keras_env/lib/python3.7/site-packages/xgboost/sklearn.py:1224: UserWarning: The use of label encoder in XGBClassifier is deprecated and will be removed in a future release. To remove this warning, do the following: 1) Pass option use_label_encoder=False when constructing XGBClassifier object; and 2) Encode your labels (y) as integers starting with 0, i.e. 0, 1, 2, ..., [num_class - 1].\n",
      "  warnings.warn(label_encoder_deprecation_msg, UserWarning)\n",
      "/Users/kshamajha/opt/anaconda3/envs/keras_env/lib/python3.7/site-packages/xgboost/sklearn.py:1224: UserWarning: The use of label encoder in XGBClassifier is deprecated and will be removed in a future release. To remove this warning, do the following: 1) Pass option use_label_encoder=False when constructing XGBClassifier object; and 2) Encode your labels (y) as integers starting with 0, i.e. 0, 1, 2, ..., [num_class - 1].\n",
      "  warnings.warn(label_encoder_deprecation_msg, UserWarning)\n",
      "/Users/kshamajha/opt/anaconda3/envs/keras_env/lib/python3.7/site-packages/xgboost/sklearn.py:1224: UserWarning: The use of label encoder in XGBClassifier is deprecated and will be removed in a future release. To remove this warning, do the following: 1) Pass option use_label_encoder=False when constructing XGBClassifier object; and 2) Encode your labels (y) as integers starting with 0, i.e. 0, 1, 2, ..., [num_class - 1].\n",
      "  warnings.warn(label_encoder_deprecation_msg, UserWarning)\n",
      "/Users/kshamajha/opt/anaconda3/envs/keras_env/lib/python3.7/site-packages/xgboost/sklearn.py:1224: UserWarning: The use of label encoder in XGBClassifier is deprecated and will be removed in a future release. To remove this warning, do the following: 1) Pass option use_label_encoder=False when constructing XGBClassifier object; and 2) Encode your labels (y) as integers starting with 0, i.e. 0, 1, 2, ..., [num_class - 1].\n",
      "  warnings.warn(label_encoder_deprecation_msg, UserWarning)\n",
      "/Users/kshamajha/opt/anaconda3/envs/keras_env/lib/python3.7/site-packages/xgboost/sklearn.py:1224: UserWarning: The use of label encoder in XGBClassifier is deprecated and will be removed in a future release. To remove this warning, do the following: 1) Pass option use_label_encoder=False when constructing XGBClassifier object; and 2) Encode your labels (y) as integers starting with 0, i.e. 0, 1, 2, ..., [num_class - 1].\n",
      "  warnings.warn(label_encoder_deprecation_msg, UserWarning)\n"
     ]
    },
    {
     "name": "stdout",
     "output_type": "stream",
     "text": [
      "CPU Execution time: 2359.7350689999994 seconds\n"
     ]
    }
   ],
   "source": [
    "st = time.process_time()\n",
    "svc = svm.SVC(kernel='linear', C=1).fit(X_train_ns, y_train_ns)\n",
    "et = time.process_time()\n",
    "res = et - st\n",
    "print('CPU Execution time:', res, 'seconds')"
   ]
  },
  {
   "cell_type": "code",
   "execution_count": 54,
   "id": "8e32f6cc",
   "metadata": {},
   "outputs": [],
   "source": [
    "# predict class\n",
    "y_pred9 = svc.predict(X_test)\n",
    "predictions = [round(value) for value in y_pred9]"
   ]
  },
  {
   "cell_type": "code",
   "execution_count": 55,
   "id": "1288c827",
   "metadata": {},
   "outputs": [
    {
     "name": "stdout",
     "output_type": "stream",
     "text": [
      "[[88479 21979]\n",
      " [ 5232 15564]]\n",
      "0.7926844134274003\n",
      "              precision    recall  f1-score   support\n",
      "\n",
      "           0       0.94      0.80      0.87    110458\n",
      "           1       0.41      0.75      0.53     20796\n",
      "\n",
      "    accuracy                           0.79    131254\n",
      "   macro avg       0.68      0.77      0.70    131254\n",
      "weighted avg       0.86      0.79      0.81    131254\n",
      "\n",
      "Accuracy: 79.27%\n"
     ]
    }
   ],
   "source": [
    "accuracy = accuracy_score(y_test, predictions)\n",
    "print(confusion_matrix(y_test,y_pred9))\n",
    "print(accuracy_score(y_test,y_pred9))\n",
    "print(classification_report(y_test,y_pred9))\n",
    "print(\"Accuracy: %.2f%%\" % (accuracy * 100.0))"
   ]
  },
  {
   "cell_type": "code",
   "execution_count": 56,
   "id": "1ecd7519",
   "metadata": {},
   "outputs": [
    {
     "data": {
      "text/markdown": [
       "------ "
      ],
      "text/plain": [
       "<IPython.core.display.Markdown object>"
      ]
     },
     "metadata": {},
     "output_type": "display_data"
    },
    {
     "data": {
      "text/markdown": [
       "### Support Vector Classifier Model Metrics Summary : "
      ],
      "text/plain": [
       "<IPython.core.display.Markdown object>"
      ]
     },
     "metadata": {},
     "output_type": "display_data"
    },
    {
     "data": {
      "text/markdown": [
       "#### Confusion Matrix : "
      ],
      "text/plain": [
       "<IPython.core.display.Markdown object>"
      ]
     },
     "metadata": {},
     "output_type": "display_data"
    },
    {
     "data": {
      "text/plain": [
       "array([[88479, 21979],\n",
       "       [ 5232, 15564]])"
      ]
     },
     "metadata": {},
     "output_type": "display_data"
    },
    {
     "data": {
      "text/html": [
       "<div>\n",
       "<style scoped>\n",
       "    .dataframe tbody tr th:only-of-type {\n",
       "        vertical-align: middle;\n",
       "    }\n",
       "\n",
       "    .dataframe tbody tr th {\n",
       "        vertical-align: top;\n",
       "    }\n",
       "\n",
       "    .dataframe thead th {\n",
       "        text-align: right;\n",
       "    }\n",
       "</style>\n",
       "<table border=\"1\" class=\"dataframe\">\n",
       "  <thead>\n",
       "    <tr style=\"text-align: right;\">\n",
       "      <th></th>\n",
       "      <th>Model Name</th>\n",
       "      <th>Accuracy</th>\n",
       "      <th>Precision</th>\n",
       "      <th>Recall</th>\n",
       "      <th>AUC</th>\n",
       "      <th>F1</th>\n",
       "      <th>Brier Loss</th>\n",
       "    </tr>\n",
       "  </thead>\n",
       "  <tbody>\n",
       "    <tr>\n",
       "      <th>0</th>\n",
       "      <td>Support Vector Classifier</td>\n",
       "      <td>0.79</td>\n",
       "      <td>0.41</td>\n",
       "      <td>0.75</td>\n",
       "      <td>0.77</td>\n",
       "      <td>0.53</td>\n",
       "      <td>0.2073</td>\n",
       "    </tr>\n",
       "  </tbody>\n",
       "</table>\n",
       "</div>"
      ],
      "text/plain": [
       "                  Model Name  Accuracy  Precision  Recall   AUC    F1  \\\n",
       "0  Support Vector Classifier      0.79       0.41    0.75  0.77  0.53   \n",
       "\n",
       "   Brier Loss  \n",
       "0      0.2073  "
      ]
     },
     "execution_count": 56,
     "metadata": {},
     "output_type": "execute_result"
    }
   ],
   "source": [
    "# Print the model metrics\n",
    "get_model_metrics(y_test, y_pred9 ,'Support Vector Classifier')"
   ]
  },
  {
   "cell_type": "markdown",
   "id": "aedbe738",
   "metadata": {},
   "source": [
    "### Training the model\n",
    "## Decision Tree Classifier"
   ]
  },
  {
   "cell_type": "code",
   "execution_count": 57,
   "id": "5d9b3785",
   "metadata": {},
   "outputs": [],
   "source": [
    "from sklearn.tree import DecisionTreeClassifier\n",
    "from sklearn.model_selection import GridSearchCV"
   ]
  },
  {
   "cell_type": "code",
   "execution_count": 58,
   "id": "924f37fc",
   "metadata": {},
   "outputs": [],
   "source": [
    "# Create the parameter grid \n",
    "params = {\n",
    "    'max_depth': [2, 3, 5, 10, 20],\n",
    "    'min_samples_leaf': [5, 10, 20, 50, 100],\n",
    "    'criterion': [\"gini\", \"entropy\"]\n",
    "}"
   ]
  },
  {
   "cell_type": "code",
   "execution_count": 59,
   "id": "f13377cf",
   "metadata": {},
   "outputs": [
    {
     "name": "stdout",
     "output_type": "stream",
     "text": [
      "Fitting 4 folds for each of 50 candidates, totalling 200 fits\n",
      "CPU Execution time: 3.7348830000000817 seconds\n"
     ]
    }
   ],
   "source": [
    "st = time.process_time()\n",
    "dt = DecisionTreeClassifier(random_state=42)\n",
    "# Instantiate the grid search model\n",
    "grid_search = GridSearchCV(estimator=dt, \n",
    "                           param_grid=params, \n",
    "                           cv=4, n_jobs=-1, verbose=1, scoring = \"accuracy\")\n",
    "grid_search.fit(X_train_ns, y_train_ns)\n",
    "et = time.process_time()\n",
    "res = et - st\n",
    "print('CPU Execution time:', res, 'seconds')"
   ]
  },
  {
   "cell_type": "code",
   "execution_count": 60,
   "id": "24a81cb3",
   "metadata": {},
   "outputs": [
    {
     "data": {
      "text/plain": [
       "DecisionTreeClassifier(criterion='entropy', max_depth=20, min_samples_leaf=5,\n",
       "                       random_state=42)"
      ]
     },
     "execution_count": 60,
     "metadata": {},
     "output_type": "execute_result"
    }
   ],
   "source": [
    "grid_search.best_estimator_"
   ]
  },
  {
   "cell_type": "code",
   "execution_count": 61,
   "id": "ff147ee1",
   "metadata": {},
   "outputs": [],
   "source": [
    "dt_best = grid_search.best_estimator_"
   ]
  },
  {
   "cell_type": "code",
   "execution_count": 62,
   "id": "f2296b93",
   "metadata": {},
   "outputs": [],
   "source": [
    "# predict class\n",
    "y_pred10 = dt_best.predict(X_test)\n",
    "predictions = [round(value) for value in y_pred10]"
   ]
  },
  {
   "cell_type": "code",
   "execution_count": 63,
   "id": "d0fd2930",
   "metadata": {},
   "outputs": [
    {
     "name": "stdout",
     "output_type": "stream",
     "text": [
      "[[86684 23774]\n",
      " [ 4515 16281]]\n",
      "0.7844713303975498\n",
      "              precision    recall  f1-score   support\n",
      "\n",
      "           0       0.95      0.78      0.86    110458\n",
      "           1       0.41      0.78      0.54     20796\n",
      "\n",
      "    accuracy                           0.78    131254\n",
      "   macro avg       0.68      0.78      0.70    131254\n",
      "weighted avg       0.86      0.78      0.81    131254\n",
      "\n",
      "Accuracy: 78.45%\n"
     ]
    }
   ],
   "source": [
    "accuracy = accuracy_score(y_test, predictions)\n",
    "print(confusion_matrix(y_test,y_pred10))\n",
    "print(accuracy_score(y_test,y_pred10))\n",
    "print(classification_report(y_test,y_pred10))\n",
    "print(\"Accuracy: %.2f%%\" % (accuracy * 100.0))"
   ]
  },
  {
   "cell_type": "code",
   "execution_count": 64,
   "id": "ff605085",
   "metadata": {},
   "outputs": [
    {
     "data": {
      "text/markdown": [
       "------ "
      ],
      "text/plain": [
       "<IPython.core.display.Markdown object>"
      ]
     },
     "metadata": {},
     "output_type": "display_data"
    },
    {
     "data": {
      "text/markdown": [
       "### Decision Tree Classifier with HPT Model Metrics Summary : "
      ],
      "text/plain": [
       "<IPython.core.display.Markdown object>"
      ]
     },
     "metadata": {},
     "output_type": "display_data"
    },
    {
     "data": {
      "text/markdown": [
       "#### Confusion Matrix : "
      ],
      "text/plain": [
       "<IPython.core.display.Markdown object>"
      ]
     },
     "metadata": {},
     "output_type": "display_data"
    },
    {
     "data": {
      "text/plain": [
       "array([[86684, 23774],\n",
       "       [ 4515, 16281]])"
      ]
     },
     "metadata": {},
     "output_type": "display_data"
    },
    {
     "data": {
      "text/html": [
       "<div>\n",
       "<style scoped>\n",
       "    .dataframe tbody tr th:only-of-type {\n",
       "        vertical-align: middle;\n",
       "    }\n",
       "\n",
       "    .dataframe tbody tr th {\n",
       "        vertical-align: top;\n",
       "    }\n",
       "\n",
       "    .dataframe thead th {\n",
       "        text-align: right;\n",
       "    }\n",
       "</style>\n",
       "<table border=\"1\" class=\"dataframe\">\n",
       "  <thead>\n",
       "    <tr style=\"text-align: right;\">\n",
       "      <th></th>\n",
       "      <th>Model Name</th>\n",
       "      <th>Accuracy</th>\n",
       "      <th>Precision</th>\n",
       "      <th>Recall</th>\n",
       "      <th>AUC</th>\n",
       "      <th>F1</th>\n",
       "      <th>Brier Loss</th>\n",
       "    </tr>\n",
       "  </thead>\n",
       "  <tbody>\n",
       "    <tr>\n",
       "      <th>0</th>\n",
       "      <td>Decision Tree Classifier with HPT</td>\n",
       "      <td>0.78</td>\n",
       "      <td>0.41</td>\n",
       "      <td>0.78</td>\n",
       "      <td>0.78</td>\n",
       "      <td>0.54</td>\n",
       "      <td>0.2155</td>\n",
       "    </tr>\n",
       "  </tbody>\n",
       "</table>\n",
       "</div>"
      ],
      "text/plain": [
       "                          Model Name  Accuracy  Precision  Recall   AUC    F1  \\\n",
       "0  Decision Tree Classifier with HPT      0.78       0.41    0.78  0.78  0.54   \n",
       "\n",
       "   Brier Loss  \n",
       "0      0.2155  "
      ]
     },
     "execution_count": 64,
     "metadata": {},
     "output_type": "execute_result"
    }
   ],
   "source": [
    "# Print the model metrics\n",
    "get_model_metrics(y_test, y_pred10 ,'Decision Tree Classifier with HPT')"
   ]
  },
  {
   "cell_type": "code",
   "execution_count": 65,
   "id": "66deb1e9",
   "metadata": {},
   "outputs": [
    {
     "data": {
      "text/html": [
       "<div>\n",
       "<style scoped>\n",
       "    .dataframe tbody tr th:only-of-type {\n",
       "        vertical-align: middle;\n",
       "    }\n",
       "\n",
       "    .dataframe tbody tr th {\n",
       "        vertical-align: top;\n",
       "    }\n",
       "\n",
       "    .dataframe thead th {\n",
       "        text-align: right;\n",
       "    }\n",
       "</style>\n",
       "<table border=\"1\" class=\"dataframe\">\n",
       "  <thead>\n",
       "    <tr style=\"text-align: right;\">\n",
       "      <th></th>\n",
       "      <th>Model Name</th>\n",
       "      <th>Accuracy</th>\n",
       "      <th>Precision</th>\n",
       "      <th>Recall</th>\n",
       "      <th>AUC</th>\n",
       "      <th>F1</th>\n",
       "      <th>Brier Loss</th>\n",
       "    </tr>\n",
       "  </thead>\n",
       "  <tbody>\n",
       "    <tr>\n",
       "      <th>0</th>\n",
       "      <td>Logistic Regression with unbalanced data</td>\n",
       "      <td>0.85</td>\n",
       "      <td>0.54</td>\n",
       "      <td>0.17</td>\n",
       "      <td>0.57</td>\n",
       "      <td>0.25</td>\n",
       "      <td>0.1547</td>\n",
       "    </tr>\n",
       "    <tr>\n",
       "      <th>1</th>\n",
       "      <td>Logistic Regression</td>\n",
       "      <td>0.79</td>\n",
       "      <td>0.42</td>\n",
       "      <td>0.77</td>\n",
       "      <td>0.78</td>\n",
       "      <td>0.54</td>\n",
       "      <td>0.2067</td>\n",
       "    </tr>\n",
       "    <tr>\n",
       "      <th>2</th>\n",
       "      <td>Random Forest</td>\n",
       "      <td>0.79</td>\n",
       "      <td>0.41</td>\n",
       "      <td>0.78</td>\n",
       "      <td>0.79</td>\n",
       "      <td>0.54</td>\n",
       "      <td>0.2128</td>\n",
       "    </tr>\n",
       "    <tr>\n",
       "      <th>3</th>\n",
       "      <td>Random Forest with HPT</td>\n",
       "      <td>0.79</td>\n",
       "      <td>0.41</td>\n",
       "      <td>0.78</td>\n",
       "      <td>0.79</td>\n",
       "      <td>0.54</td>\n",
       "      <td>0.2127</td>\n",
       "    </tr>\n",
       "    <tr>\n",
       "      <th>4</th>\n",
       "      <td>XGBoost Classification</td>\n",
       "      <td>0.79</td>\n",
       "      <td>0.41</td>\n",
       "      <td>0.78</td>\n",
       "      <td>0.79</td>\n",
       "      <td>0.54</td>\n",
       "      <td>0.2123</td>\n",
       "    </tr>\n",
       "    <tr>\n",
       "      <th>5</th>\n",
       "      <td>XGBoost Classification with HPT</td>\n",
       "      <td>0.79</td>\n",
       "      <td>0.41</td>\n",
       "      <td>0.78</td>\n",
       "      <td>0.78</td>\n",
       "      <td>0.54</td>\n",
       "      <td>0.2132</td>\n",
       "    </tr>\n",
       "    <tr>\n",
       "      <th>6</th>\n",
       "      <td>Bernoulli Naive Bayes</td>\n",
       "      <td>0.76</td>\n",
       "      <td>0.38</td>\n",
       "      <td>0.82</td>\n",
       "      <td>0.78</td>\n",
       "      <td>0.52</td>\n",
       "      <td>0.2383</td>\n",
       "    </tr>\n",
       "    <tr>\n",
       "      <th>7</th>\n",
       "      <td>Multinomial Naive Bayes</td>\n",
       "      <td>0.79</td>\n",
       "      <td>0.35</td>\n",
       "      <td>0.42</td>\n",
       "      <td>0.64</td>\n",
       "      <td>0.38</td>\n",
       "      <td>0.2131</td>\n",
       "    </tr>\n",
       "    <tr>\n",
       "      <th>8</th>\n",
       "      <td>Support Vector Classifier</td>\n",
       "      <td>0.79</td>\n",
       "      <td>0.41</td>\n",
       "      <td>0.75</td>\n",
       "      <td>0.77</td>\n",
       "      <td>0.53</td>\n",
       "      <td>0.2073</td>\n",
       "    </tr>\n",
       "    <tr>\n",
       "      <th>9</th>\n",
       "      <td>Decision Tree Classifier with HPT</td>\n",
       "      <td>0.78</td>\n",
       "      <td>0.41</td>\n",
       "      <td>0.78</td>\n",
       "      <td>0.78</td>\n",
       "      <td>0.54</td>\n",
       "      <td>0.2155</td>\n",
       "    </tr>\n",
       "  </tbody>\n",
       "</table>\n",
       "</div>"
      ],
      "text/plain": [
       "                                 Model Name  Accuracy  Precision  Recall  \\\n",
       "0  Logistic Regression with unbalanced data      0.85       0.54    0.17   \n",
       "1                       Logistic Regression      0.79       0.42    0.77   \n",
       "2                             Random Forest      0.79       0.41    0.78   \n",
       "3                    Random Forest with HPT      0.79       0.41    0.78   \n",
       "4                    XGBoost Classification      0.79       0.41    0.78   \n",
       "5           XGBoost Classification with HPT      0.79       0.41    0.78   \n",
       "6                     Bernoulli Naive Bayes      0.76       0.38    0.82   \n",
       "7                   Multinomial Naive Bayes      0.79       0.35    0.42   \n",
       "8                 Support Vector Classifier      0.79       0.41    0.75   \n",
       "9         Decision Tree Classifier with HPT      0.78       0.41    0.78   \n",
       "\n",
       "    AUC    F1  Brier Loss  \n",
       "0  0.57  0.25      0.1547  \n",
       "1  0.78  0.54      0.2067  \n",
       "2  0.79  0.54      0.2128  \n",
       "3  0.79  0.54      0.2127  \n",
       "4  0.79  0.54      0.2123  \n",
       "5  0.78  0.54      0.2132  \n",
       "6  0.78  0.52      0.2383  \n",
       "7  0.64  0.38      0.2131  \n",
       "8  0.77  0.53      0.2073  \n",
       "9  0.78  0.54      0.2155  "
      ]
     },
     "execution_count": 65,
     "metadata": {},
     "output_type": "execute_result"
    }
   ],
   "source": [
    "model_results.head(20)"
   ]
  },
  {
   "cell_type": "markdown",
   "id": "8862b601",
   "metadata": {},
   "source": [
    "## ROC curve"
   ]
  },
  {
   "cell_type": "code",
   "execution_count": 66,
   "id": "3f7842e0",
   "metadata": {},
   "outputs": [
    {
     "data": {
      "text/plain": [
       "<matplotlib.legend.Legend at 0x7fb2e208bad0>"
      ]
     },
     "execution_count": 66,
     "metadata": {},
     "output_type": "execute_result"
    },
    {
     "data": {
      "text/plain": [
       "<Figure size 432x288 with 0 Axes>"
      ]
     },
     "metadata": {},
     "output_type": "display_data"
    },
    {
     "data": {
      "image/png": "[encoded data removed]",
      "text/plain": [
       "<Figure size 1008x720 with 1 Axes>"
      ]
     },
     "metadata": {
      "needs_background": "light"
     },
     "output_type": "display_data"
    }
   ],
   "source": [
    "#set up plotting area\n",
    "plt.figure(0).clf()\n",
    "plt.figure(figsize=(14,10))\n",
    "plt.title('ROC Curve for Fake Review detection')\n",
    "plt.xlabel('False Positive Rate (1 - Specificity)')\n",
    "plt.ylabel('True Positive Rate (Sensitivity)')\n",
    "\n",
    "#plot ROC curve for logistic regression with unbalanced data model\n",
    "fpr, tpr, _ = roc_curve(y_test, y_pred)\n",
    "auc = round(roc_auc_score(y_test, y_pred), 4)\n",
    "plt.plot(fpr,tpr,label=\"Logistic Regression unbalanced data, AUC=\"+str(auc))\n",
    "\n",
    "#plot ROC curve for logistic regression model\n",
    "fpr, tpr, _ = roc_curve(y_test, y_pred2)\n",
    "auc = round(roc_auc_score(y_test, y_pred2), 4)\n",
    "plt.plot(fpr,tpr,label=\"Logistic Regression, AUC=\"+str(auc))\n",
    "\n",
    "#plot ROC curve for Random Forest model\n",
    "fpr, tpr, _ = roc_curve(y_test, y_pred3)\n",
    "auc = round(roc_auc_score(y_test, y_pred3), 4)\n",
    "plt.plot(fpr,tpr,label=\"Random Forest, AUC=\"+str(auc))\n",
    "\n",
    "#plot ROC curve for Random Forest with HPT model\n",
    "fpr, tpr, _ = roc_curve(y_test, y_pred4)\n",
    "auc = round(roc_auc_score(y_test, y_pred4), 4)\n",
    "plt.plot(fpr,tpr,label=\"Random Forest with HPT, AUC=\"+str(auc))\n",
    "\n",
    "#plot ROC curve for XGBoost Classification model\n",
    "fpr, tpr, _ = roc_curve(y_test, y_pred5)\n",
    "auc = round(roc_auc_score(y_test, y_pred5), 4)\n",
    "plt.plot(fpr,tpr,label=\"XGBoost Classification, AUC=\"+str(auc))\n",
    "\n",
    "#plot ROC curve for XGBoost Classification with HPT model\n",
    "fpr, tpr, _ = roc_curve(y_test, y_pred6)\n",
    "auc = round(roc_auc_score(y_test, y_pred6), 4)\n",
    "plt.plot(fpr,tpr,label=\"XGBoost Classification with HPT, AUC=\"+str(auc))\n",
    "\n",
    "#plot ROC curve for Bernoulli Naive Bayes model\n",
    "fpr, tpr, _ = roc_curve(y_test, y_pred7)\n",
    "auc = round(roc_auc_score(y_test, y_pred7), 4)\n",
    "plt.plot(fpr,tpr,label=\"Bernoulli Naive Bayes, AUC=\"+str(auc))\n",
    "\n",
    "#plot ROC curve for Multinomial Naive Bayes model\n",
    "fpr, tpr, _ = roc_curve(y_test, y_pred8)\n",
    "auc = round(roc_auc_score(y_test, y_pred8), 4)\n",
    "plt.plot(fpr,tpr,label=\"Multinomial Naive Bayes, AUC=\"+str(auc))\n",
    "\n",
    "#plot ROC curve for Support Vector Classifier model\n",
    "fpr, tpr, _ = roc_curve(y_test, y_pred9)\n",
    "auc = round(roc_auc_score(y_test, y_pred9), 4)\n",
    "plt.plot(fpr,tpr,label=\"Support Vector Classifier, AUC=\"+str(auc))\n",
    "\n",
    "#plot ROC curve for Decision Tree Classifier with HPT model\n",
    "fpr, tpr, _ = roc_curve(y_test, y_pred10)\n",
    "auc = round(roc_auc_score(y_test, y_pred10), 4)\n",
    "plt.plot(fpr,tpr,label=\"Decision Tree Classifier with HPT, AUC=\"+str(auc))\n",
    "\n",
    "#add legend\n",
    "plt.legend()"
   ]
  },
  {
   "cell_type": "code",
   "execution_count": null,
   "id": "bb6e2177",
   "metadata": {},
   "outputs": [],
   "source": []
  },
  {
   "cell_type": "code",
   "execution_count": null,
   "id": "8cc43216",
   "metadata": {},
   "outputs": [],
   "source": []
  },
  {
   "cell_type": "code",
   "execution_count": null,
   "id": "e5c76513",
   "metadata": {},
   "outputs": [],
   "source": []
  }
 ],
 "metadata": {
  "kernelspec": {
   "display_name": "Python 3 (ipykernel)",
   "language": "python",
   "name": "python3"
  },
  "language_info": {
   "codemirror_mode": {
    "name": "ipython",
    "version": 3
   },
   "file_extension": ".py",
   "mimetype": "text/x-python",
   "name": "python",
   "nbconvert_exporter": "python",
   "pygments_lexer": "ipython3",
   "version": "3.7.13"
  }
 },
 "nbformat": 4,
 "nbformat_minor": 5
}
